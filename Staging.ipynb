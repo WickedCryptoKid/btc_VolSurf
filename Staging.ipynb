{
 "cells": [
  {
   "cell_type": "code",
   "execution_count": 12,
   "id": "da267228-1181-41a4-911a-192e87bd493e",
   "metadata": {},
   "outputs": [],
   "source": [
    "import pandas as pd\n",
    "from pandas import json_normalize\n",
    "\n",
    "import datetime\n",
    "import numpy as np\n",
    "import json\n",
    "import requests\n",
    "import urllib.request\n",
    "\n",
    "from datetime import datetime\n",
    "import matplotlib.pyplot as plt\n",
    "from scipy import interpolate\n",
    "import statsmodels.api as sm\n",
    "from mpl_toolkits import mplot3d\n",
    "from mpl_toolkits.mplot3d import Axes3D\n",
    "from matplotlib.ticker import FuncFormatter\n",
    "\n",
    "# disaply column and row to the maximum length\n",
    "#pd.set_option('display.max_colwidth', None, 'display.max_rows', None, 'display.max_columns', None)"
   ]
  },
  {
   "cell_type": "code",
   "execution_count": 22,
   "id": "2f7e741f-6e04-4446-a4e3-ce81fef5a7ff",
   "metadata": {},
   "outputs": [
    {
     "ename": "HTTPError",
     "evalue": "HTTP Error 400: Bad Request",
     "output_type": "error",
     "traceback": [
      "\u001b[0;31m---------------------------------------------------------------------------\u001b[0m",
      "\u001b[0;31mHTTPError\u001b[0m                                 Traceback (most recent call last)",
      "Cell \u001b[0;32mIn[22], line 4\u001b[0m\n\u001b[1;32m      1\u001b[0m maturity_condition \u001b[38;5;241m=\u001b[39m \u001b[38;5;124m'\u001b[39m\u001b[38;5;124mdays_to_maturity < 500\u001b[39m\u001b[38;5;124m'\u001b[39m\n\u001b[1;32m      3\u001b[0m url \u001b[38;5;241m=\u001b[39m  \u001b[38;5;124m\"\u001b[39m\u001b[38;5;124mhttps://deribit.com/api/v2/private/get_order_history_by_instrument?currency=BTC&kind=option&expired=false\u001b[39m\u001b[38;5;124m\"\u001b[39m\n\u001b[0;32m----> 4\u001b[0m \u001b[38;5;28;01mwith\u001b[39;00m urllib\u001b[38;5;241m.\u001b[39mrequest\u001b[38;5;241m.\u001b[39murlopen(url) \u001b[38;5;28;01mas\u001b[39;00m url:\n\u001b[1;32m      5\u001b[0m     get_inst_names \u001b[38;5;241m=\u001b[39m json\u001b[38;5;241m.\u001b[39mloads(url\u001b[38;5;241m.\u001b[39mread()\u001b[38;5;241m.\u001b[39mdecode())\n\u001b[1;32m      7\u001b[0m inst_names \u001b[38;5;241m=\u001b[39m pd\u001b[38;5;241m.\u001b[39mDataFrame(get_inst_names[\u001b[38;5;124m'\u001b[39m\u001b[38;5;124mresult\u001b[39m\u001b[38;5;124m'\u001b[39m])\u001b[38;5;66;03m#.set_index('instrument_name')\u001b[39;00m\n",
      "File \u001b[0;32m~/anaconda3/lib/python3.11/urllib/request.py:216\u001b[0m, in \u001b[0;36murlopen\u001b[0;34m(url, data, timeout, cafile, capath, cadefault, context)\u001b[0m\n\u001b[1;32m    214\u001b[0m \u001b[38;5;28;01melse\u001b[39;00m:\n\u001b[1;32m    215\u001b[0m     opener \u001b[38;5;241m=\u001b[39m _opener\n\u001b[0;32m--> 216\u001b[0m \u001b[38;5;28;01mreturn\u001b[39;00m opener\u001b[38;5;241m.\u001b[39mopen(url, data, timeout)\n",
      "File \u001b[0;32m~/anaconda3/lib/python3.11/urllib/request.py:525\u001b[0m, in \u001b[0;36mOpenerDirector.open\u001b[0;34m(self, fullurl, data, timeout)\u001b[0m\n\u001b[1;32m    523\u001b[0m \u001b[38;5;28;01mfor\u001b[39;00m processor \u001b[38;5;129;01min\u001b[39;00m \u001b[38;5;28mself\u001b[39m\u001b[38;5;241m.\u001b[39mprocess_response\u001b[38;5;241m.\u001b[39mget(protocol, []):\n\u001b[1;32m    524\u001b[0m     meth \u001b[38;5;241m=\u001b[39m \u001b[38;5;28mgetattr\u001b[39m(processor, meth_name)\n\u001b[0;32m--> 525\u001b[0m     response \u001b[38;5;241m=\u001b[39m meth(req, response)\n\u001b[1;32m    527\u001b[0m \u001b[38;5;28;01mreturn\u001b[39;00m response\n",
      "File \u001b[0;32m~/anaconda3/lib/python3.11/urllib/request.py:634\u001b[0m, in \u001b[0;36mHTTPErrorProcessor.http_response\u001b[0;34m(self, request, response)\u001b[0m\n\u001b[1;32m    631\u001b[0m \u001b[38;5;66;03m# According to RFC 2616, \"2xx\" code indicates that the client's\u001b[39;00m\n\u001b[1;32m    632\u001b[0m \u001b[38;5;66;03m# request was successfully received, understood, and accepted.\u001b[39;00m\n\u001b[1;32m    633\u001b[0m \u001b[38;5;28;01mif\u001b[39;00m \u001b[38;5;129;01mnot\u001b[39;00m (\u001b[38;5;241m200\u001b[39m \u001b[38;5;241m<\u001b[39m\u001b[38;5;241m=\u001b[39m code \u001b[38;5;241m<\u001b[39m \u001b[38;5;241m300\u001b[39m):\n\u001b[0;32m--> 634\u001b[0m     response \u001b[38;5;241m=\u001b[39m \u001b[38;5;28mself\u001b[39m\u001b[38;5;241m.\u001b[39mparent\u001b[38;5;241m.\u001b[39merror(\n\u001b[1;32m    635\u001b[0m         \u001b[38;5;124m'\u001b[39m\u001b[38;5;124mhttp\u001b[39m\u001b[38;5;124m'\u001b[39m, request, response, code, msg, hdrs)\n\u001b[1;32m    637\u001b[0m \u001b[38;5;28;01mreturn\u001b[39;00m response\n",
      "File \u001b[0;32m~/anaconda3/lib/python3.11/urllib/request.py:557\u001b[0m, in \u001b[0;36mOpenerDirector.error\u001b[0;34m(self, proto, *args)\u001b[0m\n\u001b[1;32m    555\u001b[0m     http_err \u001b[38;5;241m=\u001b[39m \u001b[38;5;241m0\u001b[39m\n\u001b[1;32m    556\u001b[0m args \u001b[38;5;241m=\u001b[39m (\u001b[38;5;28mdict\u001b[39m, proto, meth_name) \u001b[38;5;241m+\u001b[39m args\n\u001b[0;32m--> 557\u001b[0m result \u001b[38;5;241m=\u001b[39m \u001b[38;5;28mself\u001b[39m\u001b[38;5;241m.\u001b[39m_call_chain(\u001b[38;5;241m*\u001b[39margs)\n\u001b[1;32m    558\u001b[0m \u001b[38;5;28;01mif\u001b[39;00m result:\n\u001b[1;32m    559\u001b[0m     \u001b[38;5;28;01mreturn\u001b[39;00m result\n",
      "File \u001b[0;32m~/anaconda3/lib/python3.11/urllib/request.py:496\u001b[0m, in \u001b[0;36mOpenerDirector._call_chain\u001b[0;34m(self, chain, kind, meth_name, *args)\u001b[0m\n\u001b[1;32m    494\u001b[0m \u001b[38;5;28;01mfor\u001b[39;00m handler \u001b[38;5;129;01min\u001b[39;00m handlers:\n\u001b[1;32m    495\u001b[0m     func \u001b[38;5;241m=\u001b[39m \u001b[38;5;28mgetattr\u001b[39m(handler, meth_name)\n\u001b[0;32m--> 496\u001b[0m     result \u001b[38;5;241m=\u001b[39m func(\u001b[38;5;241m*\u001b[39margs)\n\u001b[1;32m    497\u001b[0m     \u001b[38;5;28;01mif\u001b[39;00m result \u001b[38;5;129;01mis\u001b[39;00m \u001b[38;5;129;01mnot\u001b[39;00m \u001b[38;5;28;01mNone\u001b[39;00m:\n\u001b[1;32m    498\u001b[0m         \u001b[38;5;28;01mreturn\u001b[39;00m result\n",
      "File \u001b[0;32m~/anaconda3/lib/python3.11/urllib/request.py:749\u001b[0m, in \u001b[0;36mHTTPRedirectHandler.http_error_302\u001b[0;34m(self, req, fp, code, msg, headers)\u001b[0m\n\u001b[1;32m    746\u001b[0m fp\u001b[38;5;241m.\u001b[39mread()\n\u001b[1;32m    747\u001b[0m fp\u001b[38;5;241m.\u001b[39mclose()\n\u001b[0;32m--> 749\u001b[0m \u001b[38;5;28;01mreturn\u001b[39;00m \u001b[38;5;28mself\u001b[39m\u001b[38;5;241m.\u001b[39mparent\u001b[38;5;241m.\u001b[39mopen(new, timeout\u001b[38;5;241m=\u001b[39mreq\u001b[38;5;241m.\u001b[39mtimeout)\n",
      "File \u001b[0;32m~/anaconda3/lib/python3.11/urllib/request.py:525\u001b[0m, in \u001b[0;36mOpenerDirector.open\u001b[0;34m(self, fullurl, data, timeout)\u001b[0m\n\u001b[1;32m    523\u001b[0m \u001b[38;5;28;01mfor\u001b[39;00m processor \u001b[38;5;129;01min\u001b[39;00m \u001b[38;5;28mself\u001b[39m\u001b[38;5;241m.\u001b[39mprocess_response\u001b[38;5;241m.\u001b[39mget(protocol, []):\n\u001b[1;32m    524\u001b[0m     meth \u001b[38;5;241m=\u001b[39m \u001b[38;5;28mgetattr\u001b[39m(processor, meth_name)\n\u001b[0;32m--> 525\u001b[0m     response \u001b[38;5;241m=\u001b[39m meth(req, response)\n\u001b[1;32m    527\u001b[0m \u001b[38;5;28;01mreturn\u001b[39;00m response\n",
      "File \u001b[0;32m~/anaconda3/lib/python3.11/urllib/request.py:634\u001b[0m, in \u001b[0;36mHTTPErrorProcessor.http_response\u001b[0;34m(self, request, response)\u001b[0m\n\u001b[1;32m    631\u001b[0m \u001b[38;5;66;03m# According to RFC 2616, \"2xx\" code indicates that the client's\u001b[39;00m\n\u001b[1;32m    632\u001b[0m \u001b[38;5;66;03m# request was successfully received, understood, and accepted.\u001b[39;00m\n\u001b[1;32m    633\u001b[0m \u001b[38;5;28;01mif\u001b[39;00m \u001b[38;5;129;01mnot\u001b[39;00m (\u001b[38;5;241m200\u001b[39m \u001b[38;5;241m<\u001b[39m\u001b[38;5;241m=\u001b[39m code \u001b[38;5;241m<\u001b[39m \u001b[38;5;241m300\u001b[39m):\n\u001b[0;32m--> 634\u001b[0m     response \u001b[38;5;241m=\u001b[39m \u001b[38;5;28mself\u001b[39m\u001b[38;5;241m.\u001b[39mparent\u001b[38;5;241m.\u001b[39merror(\n\u001b[1;32m    635\u001b[0m         \u001b[38;5;124m'\u001b[39m\u001b[38;5;124mhttp\u001b[39m\u001b[38;5;124m'\u001b[39m, request, response, code, msg, hdrs)\n\u001b[1;32m    637\u001b[0m \u001b[38;5;28;01mreturn\u001b[39;00m response\n",
      "File \u001b[0;32m~/anaconda3/lib/python3.11/urllib/request.py:563\u001b[0m, in \u001b[0;36mOpenerDirector.error\u001b[0;34m(self, proto, *args)\u001b[0m\n\u001b[1;32m    561\u001b[0m \u001b[38;5;28;01mif\u001b[39;00m http_err:\n\u001b[1;32m    562\u001b[0m     args \u001b[38;5;241m=\u001b[39m (\u001b[38;5;28mdict\u001b[39m, \u001b[38;5;124m'\u001b[39m\u001b[38;5;124mdefault\u001b[39m\u001b[38;5;124m'\u001b[39m, \u001b[38;5;124m'\u001b[39m\u001b[38;5;124mhttp_error_default\u001b[39m\u001b[38;5;124m'\u001b[39m) \u001b[38;5;241m+\u001b[39m orig_args\n\u001b[0;32m--> 563\u001b[0m     \u001b[38;5;28;01mreturn\u001b[39;00m \u001b[38;5;28mself\u001b[39m\u001b[38;5;241m.\u001b[39m_call_chain(\u001b[38;5;241m*\u001b[39margs)\n",
      "File \u001b[0;32m~/anaconda3/lib/python3.11/urllib/request.py:496\u001b[0m, in \u001b[0;36mOpenerDirector._call_chain\u001b[0;34m(self, chain, kind, meth_name, *args)\u001b[0m\n\u001b[1;32m    494\u001b[0m \u001b[38;5;28;01mfor\u001b[39;00m handler \u001b[38;5;129;01min\u001b[39;00m handlers:\n\u001b[1;32m    495\u001b[0m     func \u001b[38;5;241m=\u001b[39m \u001b[38;5;28mgetattr\u001b[39m(handler, meth_name)\n\u001b[0;32m--> 496\u001b[0m     result \u001b[38;5;241m=\u001b[39m func(\u001b[38;5;241m*\u001b[39margs)\n\u001b[1;32m    497\u001b[0m     \u001b[38;5;28;01mif\u001b[39;00m result \u001b[38;5;129;01mis\u001b[39;00m \u001b[38;5;129;01mnot\u001b[39;00m \u001b[38;5;28;01mNone\u001b[39;00m:\n\u001b[1;32m    498\u001b[0m         \u001b[38;5;28;01mreturn\u001b[39;00m result\n",
      "File \u001b[0;32m~/anaconda3/lib/python3.11/urllib/request.py:643\u001b[0m, in \u001b[0;36mHTTPDefaultErrorHandler.http_error_default\u001b[0;34m(self, req, fp, code, msg, hdrs)\u001b[0m\n\u001b[1;32m    642\u001b[0m \u001b[38;5;28;01mdef\u001b[39;00m \u001b[38;5;21mhttp_error_default\u001b[39m(\u001b[38;5;28mself\u001b[39m, req, fp, code, msg, hdrs):\n\u001b[0;32m--> 643\u001b[0m     \u001b[38;5;28;01mraise\u001b[39;00m HTTPError(req\u001b[38;5;241m.\u001b[39mfull_url, code, msg, hdrs, fp)\n",
      "\u001b[0;31mHTTPError\u001b[0m: HTTP Error 400: Bad Request"
     ]
    }
   ],
   "source": [
    "maturity_condition = 'days_to_maturity < 500'\n",
    "\n",
    "url =  \"https://deribit.com/api/v2/private/get_order_history_by_instrument?currency=BTC&kind=option&expired=false\"\n",
    "with urllib.request.urlopen(url) as url:\n",
    "    get_inst_names = json.loads(url.read().decode())\n",
    "\n",
    "inst_names = pd.DataFrame(get_inst_names['result'])#.set_index('instrument_name')\n",
    "inst_names['creation_date'] = pd.to_datetime(inst_names['creation_timestamp'], unit='ms')\n",
    "inst_names['expiration_date'] = pd.to_datetime(inst_names['expiration_timestamp'], unit='ms')\n",
    "\n",
    "\n",
    "api_data_list = []\n",
    "\n",
    "for x in inst_names['instrument_name']:\n",
    "    url = f'https://www.deribit.com/api/v2/public/get_order_book?instrument_name={x}&kind=option&expired=false'\n",
    "    with urllib.request.urlopen(url) as response:\n",
    "        api_data = json.loads(response.read().decode())\n",
    "\n",
    "    api_data_df = pd.DataFrame([api_data])\n",
    "    api_data_list.append(api_data_df)\n",
    "\n",
    "all_data = pd.concat(api_data_list, ignore_index=True)\n",
    "all_data = pd.json_normalize(all_data['result'])"
   ]
  },
  {
   "cell_type": "code",
   "execution_count": null,
   "id": "73f055bc-bc6d-4d5c-8d9a-881ac1f81542",
   "metadata": {},
   "outputs": [],
   "source": []
  },
  {
   "cell_type": "code",
   "execution_count": null,
   "id": "de233330-cb15-40fc-8b39-f23637c24337",
   "metadata": {},
   "outputs": [],
   "source": []
  },
  {
   "cell_type": "code",
   "execution_count": 10,
   "id": "0dea1cd2-54fd-4925-81bf-d55d14e5cb12",
   "metadata": {
    "scrolled": true
   },
   "outputs": [
    {
     "ename": "KeyboardInterrupt",
     "evalue": "",
     "output_type": "error",
     "traceback": [
      "\u001b[0;31m---------------------------------------------------------------------------\u001b[0m",
      "\u001b[0;31mKeyboardInterrupt\u001b[0m                         Traceback (most recent call last)",
      "Cell \u001b[0;32mIn[10], line 16\u001b[0m\n\u001b[1;32m     14\u001b[0m \u001b[38;5;28;01mfor\u001b[39;00m x \u001b[38;5;129;01min\u001b[39;00m inst_names[\u001b[38;5;124m'\u001b[39m\u001b[38;5;124minstrument_name\u001b[39m\u001b[38;5;124m'\u001b[39m]:\n\u001b[1;32m     15\u001b[0m     url \u001b[38;5;241m=\u001b[39m \u001b[38;5;124mf\u001b[39m\u001b[38;5;124m'\u001b[39m\u001b[38;5;124mhttps://www.deribit.com/api/v2/public/get_order_book?instrument_name=\u001b[39m\u001b[38;5;132;01m{\u001b[39;00mx\u001b[38;5;132;01m}\u001b[39;00m\u001b[38;5;124m&kind=option&expired=false\u001b[39m\u001b[38;5;124m'\u001b[39m\n\u001b[0;32m---> 16\u001b[0m     \u001b[38;5;28;01mwith\u001b[39;00m urllib\u001b[38;5;241m.\u001b[39mrequest\u001b[38;5;241m.\u001b[39murlopen(url) \u001b[38;5;28;01mas\u001b[39;00m response:\n\u001b[1;32m     17\u001b[0m         api_data \u001b[38;5;241m=\u001b[39m json\u001b[38;5;241m.\u001b[39mloads(response\u001b[38;5;241m.\u001b[39mread()\u001b[38;5;241m.\u001b[39mdecode())\n\u001b[1;32m     19\u001b[0m     api_data_df \u001b[38;5;241m=\u001b[39m pd\u001b[38;5;241m.\u001b[39mDataFrame([api_data])\n",
      "File \u001b[0;32m~/anaconda3/lib/python3.11/urllib/request.py:216\u001b[0m, in \u001b[0;36murlopen\u001b[0;34m(url, data, timeout, cafile, capath, cadefault, context)\u001b[0m\n\u001b[1;32m    214\u001b[0m \u001b[38;5;28;01melse\u001b[39;00m:\n\u001b[1;32m    215\u001b[0m     opener \u001b[38;5;241m=\u001b[39m _opener\n\u001b[0;32m--> 216\u001b[0m \u001b[38;5;28;01mreturn\u001b[39;00m opener\u001b[38;5;241m.\u001b[39mopen(url, data, timeout)\n",
      "File \u001b[0;32m~/anaconda3/lib/python3.11/urllib/request.py:519\u001b[0m, in \u001b[0;36mOpenerDirector.open\u001b[0;34m(self, fullurl, data, timeout)\u001b[0m\n\u001b[1;32m    516\u001b[0m     req \u001b[38;5;241m=\u001b[39m meth(req)\n\u001b[1;32m    518\u001b[0m sys\u001b[38;5;241m.\u001b[39maudit(\u001b[38;5;124m'\u001b[39m\u001b[38;5;124murllib.Request\u001b[39m\u001b[38;5;124m'\u001b[39m, req\u001b[38;5;241m.\u001b[39mfull_url, req\u001b[38;5;241m.\u001b[39mdata, req\u001b[38;5;241m.\u001b[39mheaders, req\u001b[38;5;241m.\u001b[39mget_method())\n\u001b[0;32m--> 519\u001b[0m response \u001b[38;5;241m=\u001b[39m \u001b[38;5;28mself\u001b[39m\u001b[38;5;241m.\u001b[39m_open(req, data)\n\u001b[1;32m    521\u001b[0m \u001b[38;5;66;03m# post-process response\u001b[39;00m\n\u001b[1;32m    522\u001b[0m meth_name \u001b[38;5;241m=\u001b[39m protocol\u001b[38;5;241m+\u001b[39m\u001b[38;5;124m\"\u001b[39m\u001b[38;5;124m_response\u001b[39m\u001b[38;5;124m\"\u001b[39m\n",
      "File \u001b[0;32m~/anaconda3/lib/python3.11/urllib/request.py:536\u001b[0m, in \u001b[0;36mOpenerDirector._open\u001b[0;34m(self, req, data)\u001b[0m\n\u001b[1;32m    533\u001b[0m     \u001b[38;5;28;01mreturn\u001b[39;00m result\n\u001b[1;32m    535\u001b[0m protocol \u001b[38;5;241m=\u001b[39m req\u001b[38;5;241m.\u001b[39mtype\n\u001b[0;32m--> 536\u001b[0m result \u001b[38;5;241m=\u001b[39m \u001b[38;5;28mself\u001b[39m\u001b[38;5;241m.\u001b[39m_call_chain(\u001b[38;5;28mself\u001b[39m\u001b[38;5;241m.\u001b[39mhandle_open, protocol, protocol \u001b[38;5;241m+\u001b[39m\n\u001b[1;32m    537\u001b[0m                           \u001b[38;5;124m'\u001b[39m\u001b[38;5;124m_open\u001b[39m\u001b[38;5;124m'\u001b[39m, req)\n\u001b[1;32m    538\u001b[0m \u001b[38;5;28;01mif\u001b[39;00m result:\n\u001b[1;32m    539\u001b[0m     \u001b[38;5;28;01mreturn\u001b[39;00m result\n",
      "File \u001b[0;32m~/anaconda3/lib/python3.11/urllib/request.py:496\u001b[0m, in \u001b[0;36mOpenerDirector._call_chain\u001b[0;34m(self, chain, kind, meth_name, *args)\u001b[0m\n\u001b[1;32m    494\u001b[0m \u001b[38;5;28;01mfor\u001b[39;00m handler \u001b[38;5;129;01min\u001b[39;00m handlers:\n\u001b[1;32m    495\u001b[0m     func \u001b[38;5;241m=\u001b[39m \u001b[38;5;28mgetattr\u001b[39m(handler, meth_name)\n\u001b[0;32m--> 496\u001b[0m     result \u001b[38;5;241m=\u001b[39m func(\u001b[38;5;241m*\u001b[39margs)\n\u001b[1;32m    497\u001b[0m     \u001b[38;5;28;01mif\u001b[39;00m result \u001b[38;5;129;01mis\u001b[39;00m \u001b[38;5;129;01mnot\u001b[39;00m \u001b[38;5;28;01mNone\u001b[39;00m:\n\u001b[1;32m    498\u001b[0m         \u001b[38;5;28;01mreturn\u001b[39;00m result\n",
      "File \u001b[0;32m~/anaconda3/lib/python3.11/urllib/request.py:1391\u001b[0m, in \u001b[0;36mHTTPSHandler.https_open\u001b[0;34m(self, req)\u001b[0m\n\u001b[1;32m   1390\u001b[0m \u001b[38;5;28;01mdef\u001b[39;00m \u001b[38;5;21mhttps_open\u001b[39m(\u001b[38;5;28mself\u001b[39m, req):\n\u001b[0;32m-> 1391\u001b[0m     \u001b[38;5;28;01mreturn\u001b[39;00m \u001b[38;5;28mself\u001b[39m\u001b[38;5;241m.\u001b[39mdo_open(http\u001b[38;5;241m.\u001b[39mclient\u001b[38;5;241m.\u001b[39mHTTPSConnection, req,\n\u001b[1;32m   1392\u001b[0m         context\u001b[38;5;241m=\u001b[39m\u001b[38;5;28mself\u001b[39m\u001b[38;5;241m.\u001b[39m_context, check_hostname\u001b[38;5;241m=\u001b[39m\u001b[38;5;28mself\u001b[39m\u001b[38;5;241m.\u001b[39m_check_hostname)\n",
      "File \u001b[0;32m~/anaconda3/lib/python3.11/urllib/request.py:1348\u001b[0m, in \u001b[0;36mAbstractHTTPHandler.do_open\u001b[0;34m(self, http_class, req, **http_conn_args)\u001b[0m\n\u001b[1;32m   1346\u001b[0m \u001b[38;5;28;01mtry\u001b[39;00m:\n\u001b[1;32m   1347\u001b[0m     \u001b[38;5;28;01mtry\u001b[39;00m:\n\u001b[0;32m-> 1348\u001b[0m         h\u001b[38;5;241m.\u001b[39mrequest(req\u001b[38;5;241m.\u001b[39mget_method(), req\u001b[38;5;241m.\u001b[39mselector, req\u001b[38;5;241m.\u001b[39mdata, headers,\n\u001b[1;32m   1349\u001b[0m                   encode_chunked\u001b[38;5;241m=\u001b[39mreq\u001b[38;5;241m.\u001b[39mhas_header(\u001b[38;5;124m'\u001b[39m\u001b[38;5;124mTransfer-encoding\u001b[39m\u001b[38;5;124m'\u001b[39m))\n\u001b[1;32m   1350\u001b[0m     \u001b[38;5;28;01mexcept\u001b[39;00m \u001b[38;5;167;01mOSError\u001b[39;00m \u001b[38;5;28;01mas\u001b[39;00m err: \u001b[38;5;66;03m# timeout error\u001b[39;00m\n\u001b[1;32m   1351\u001b[0m         \u001b[38;5;28;01mraise\u001b[39;00m URLError(err)\n",
      "File \u001b[0;32m~/anaconda3/lib/python3.11/http/client.py:1294\u001b[0m, in \u001b[0;36mHTTPConnection.request\u001b[0;34m(self, method, url, body, headers, encode_chunked)\u001b[0m\n\u001b[1;32m   1291\u001b[0m \u001b[38;5;28;01mdef\u001b[39;00m \u001b[38;5;21mrequest\u001b[39m(\u001b[38;5;28mself\u001b[39m, method, url, body\u001b[38;5;241m=\u001b[39m\u001b[38;5;28;01mNone\u001b[39;00m, headers\u001b[38;5;241m=\u001b[39m{}, \u001b[38;5;241m*\u001b[39m,\n\u001b[1;32m   1292\u001b[0m             encode_chunked\u001b[38;5;241m=\u001b[39m\u001b[38;5;28;01mFalse\u001b[39;00m):\n\u001b[1;32m   1293\u001b[0m \u001b[38;5;250m    \u001b[39m\u001b[38;5;124;03m\"\"\"Send a complete request to the server.\"\"\"\u001b[39;00m\n\u001b[0;32m-> 1294\u001b[0m     \u001b[38;5;28mself\u001b[39m\u001b[38;5;241m.\u001b[39m_send_request(method, url, body, headers, encode_chunked)\n",
      "File \u001b[0;32m~/anaconda3/lib/python3.11/http/client.py:1340\u001b[0m, in \u001b[0;36mHTTPConnection._send_request\u001b[0;34m(self, method, url, body, headers, encode_chunked)\u001b[0m\n\u001b[1;32m   1336\u001b[0m \u001b[38;5;28;01mif\u001b[39;00m \u001b[38;5;28misinstance\u001b[39m(body, \u001b[38;5;28mstr\u001b[39m):\n\u001b[1;32m   1337\u001b[0m     \u001b[38;5;66;03m# RFC 2616 Section 3.7.1 says that text default has a\u001b[39;00m\n\u001b[1;32m   1338\u001b[0m     \u001b[38;5;66;03m# default charset of iso-8859-1.\u001b[39;00m\n\u001b[1;32m   1339\u001b[0m     body \u001b[38;5;241m=\u001b[39m _encode(body, \u001b[38;5;124m'\u001b[39m\u001b[38;5;124mbody\u001b[39m\u001b[38;5;124m'\u001b[39m)\n\u001b[0;32m-> 1340\u001b[0m \u001b[38;5;28mself\u001b[39m\u001b[38;5;241m.\u001b[39mendheaders(body, encode_chunked\u001b[38;5;241m=\u001b[39mencode_chunked)\n",
      "File \u001b[0;32m~/anaconda3/lib/python3.11/http/client.py:1289\u001b[0m, in \u001b[0;36mHTTPConnection.endheaders\u001b[0;34m(self, message_body, encode_chunked)\u001b[0m\n\u001b[1;32m   1287\u001b[0m \u001b[38;5;28;01melse\u001b[39;00m:\n\u001b[1;32m   1288\u001b[0m     \u001b[38;5;28;01mraise\u001b[39;00m CannotSendHeader()\n\u001b[0;32m-> 1289\u001b[0m \u001b[38;5;28mself\u001b[39m\u001b[38;5;241m.\u001b[39m_send_output(message_body, encode_chunked\u001b[38;5;241m=\u001b[39mencode_chunked)\n",
      "File \u001b[0;32m~/anaconda3/lib/python3.11/http/client.py:1048\u001b[0m, in \u001b[0;36mHTTPConnection._send_output\u001b[0;34m(self, message_body, encode_chunked)\u001b[0m\n\u001b[1;32m   1046\u001b[0m msg \u001b[38;5;241m=\u001b[39m \u001b[38;5;124mb\u001b[39m\u001b[38;5;124m\"\u001b[39m\u001b[38;5;130;01m\\r\u001b[39;00m\u001b[38;5;130;01m\\n\u001b[39;00m\u001b[38;5;124m\"\u001b[39m\u001b[38;5;241m.\u001b[39mjoin(\u001b[38;5;28mself\u001b[39m\u001b[38;5;241m.\u001b[39m_buffer)\n\u001b[1;32m   1047\u001b[0m \u001b[38;5;28;01mdel\u001b[39;00m \u001b[38;5;28mself\u001b[39m\u001b[38;5;241m.\u001b[39m_buffer[:]\n\u001b[0;32m-> 1048\u001b[0m \u001b[38;5;28mself\u001b[39m\u001b[38;5;241m.\u001b[39msend(msg)\n\u001b[1;32m   1050\u001b[0m \u001b[38;5;28;01mif\u001b[39;00m message_body \u001b[38;5;129;01mis\u001b[39;00m \u001b[38;5;129;01mnot\u001b[39;00m \u001b[38;5;28;01mNone\u001b[39;00m:\n\u001b[1;32m   1051\u001b[0m \n\u001b[1;32m   1052\u001b[0m     \u001b[38;5;66;03m# create a consistent interface to message_body\u001b[39;00m\n\u001b[1;32m   1053\u001b[0m     \u001b[38;5;28;01mif\u001b[39;00m \u001b[38;5;28mhasattr\u001b[39m(message_body, \u001b[38;5;124m'\u001b[39m\u001b[38;5;124mread\u001b[39m\u001b[38;5;124m'\u001b[39m):\n\u001b[1;32m   1054\u001b[0m         \u001b[38;5;66;03m# Let file-like take precedence over byte-like.  This\u001b[39;00m\n\u001b[1;32m   1055\u001b[0m         \u001b[38;5;66;03m# is needed to allow the current position of mmap'ed\u001b[39;00m\n\u001b[1;32m   1056\u001b[0m         \u001b[38;5;66;03m# files to be taken into account.\u001b[39;00m\n",
      "File \u001b[0;32m~/anaconda3/lib/python3.11/http/client.py:986\u001b[0m, in \u001b[0;36mHTTPConnection.send\u001b[0;34m(self, data)\u001b[0m\n\u001b[1;32m    984\u001b[0m \u001b[38;5;28;01mif\u001b[39;00m \u001b[38;5;28mself\u001b[39m\u001b[38;5;241m.\u001b[39msock \u001b[38;5;129;01mis\u001b[39;00m \u001b[38;5;28;01mNone\u001b[39;00m:\n\u001b[1;32m    985\u001b[0m     \u001b[38;5;28;01mif\u001b[39;00m \u001b[38;5;28mself\u001b[39m\u001b[38;5;241m.\u001b[39mauto_open:\n\u001b[0;32m--> 986\u001b[0m         \u001b[38;5;28mself\u001b[39m\u001b[38;5;241m.\u001b[39mconnect()\n\u001b[1;32m    987\u001b[0m     \u001b[38;5;28;01melse\u001b[39;00m:\n\u001b[1;32m    988\u001b[0m         \u001b[38;5;28;01mraise\u001b[39;00m NotConnected()\n",
      "File \u001b[0;32m~/anaconda3/lib/python3.11/http/client.py:1459\u001b[0m, in \u001b[0;36mHTTPSConnection.connect\u001b[0;34m(self)\u001b[0m\n\u001b[1;32m   1456\u001b[0m \u001b[38;5;28;01mdef\u001b[39;00m \u001b[38;5;21mconnect\u001b[39m(\u001b[38;5;28mself\u001b[39m):\n\u001b[1;32m   1457\u001b[0m     \u001b[38;5;124m\"\u001b[39m\u001b[38;5;124mConnect to a host on a given (SSL) port.\u001b[39m\u001b[38;5;124m\"\u001b[39m\n\u001b[0;32m-> 1459\u001b[0m     \u001b[38;5;28msuper\u001b[39m()\u001b[38;5;241m.\u001b[39mconnect()\n\u001b[1;32m   1461\u001b[0m     \u001b[38;5;28;01mif\u001b[39;00m \u001b[38;5;28mself\u001b[39m\u001b[38;5;241m.\u001b[39m_tunnel_host:\n\u001b[1;32m   1462\u001b[0m         server_hostname \u001b[38;5;241m=\u001b[39m \u001b[38;5;28mself\u001b[39m\u001b[38;5;241m.\u001b[39m_tunnel_host\n",
      "File \u001b[0;32m~/anaconda3/lib/python3.11/http/client.py:952\u001b[0m, in \u001b[0;36mHTTPConnection.connect\u001b[0;34m(self)\u001b[0m\n\u001b[1;32m    950\u001b[0m \u001b[38;5;250m\u001b[39m\u001b[38;5;124;03m\"\"\"Connect to the host and port specified in __init__.\"\"\"\u001b[39;00m\n\u001b[1;32m    951\u001b[0m sys\u001b[38;5;241m.\u001b[39maudit(\u001b[38;5;124m\"\u001b[39m\u001b[38;5;124mhttp.client.connect\u001b[39m\u001b[38;5;124m\"\u001b[39m, \u001b[38;5;28mself\u001b[39m, \u001b[38;5;28mself\u001b[39m\u001b[38;5;241m.\u001b[39mhost, \u001b[38;5;28mself\u001b[39m\u001b[38;5;241m.\u001b[39mport)\n\u001b[0;32m--> 952\u001b[0m \u001b[38;5;28mself\u001b[39m\u001b[38;5;241m.\u001b[39msock \u001b[38;5;241m=\u001b[39m \u001b[38;5;28mself\u001b[39m\u001b[38;5;241m.\u001b[39m_create_connection(\n\u001b[1;32m    953\u001b[0m     (\u001b[38;5;28mself\u001b[39m\u001b[38;5;241m.\u001b[39mhost,\u001b[38;5;28mself\u001b[39m\u001b[38;5;241m.\u001b[39mport), \u001b[38;5;28mself\u001b[39m\u001b[38;5;241m.\u001b[39mtimeout, \u001b[38;5;28mself\u001b[39m\u001b[38;5;241m.\u001b[39msource_address)\n\u001b[1;32m    954\u001b[0m \u001b[38;5;66;03m# Might fail in OSs that don't implement TCP_NODELAY\u001b[39;00m\n\u001b[1;32m    955\u001b[0m \u001b[38;5;28;01mtry\u001b[39;00m:\n",
      "File \u001b[0;32m~/anaconda3/lib/python3.11/socket.py:827\u001b[0m, in \u001b[0;36mcreate_connection\u001b[0;34m(address, timeout, source_address, all_errors)\u001b[0m\n\u001b[1;32m    825\u001b[0m host, port \u001b[38;5;241m=\u001b[39m address\n\u001b[1;32m    826\u001b[0m exceptions \u001b[38;5;241m=\u001b[39m []\n\u001b[0;32m--> 827\u001b[0m \u001b[38;5;28;01mfor\u001b[39;00m res \u001b[38;5;129;01min\u001b[39;00m getaddrinfo(host, port, \u001b[38;5;241m0\u001b[39m, SOCK_STREAM):\n\u001b[1;32m    828\u001b[0m     af, socktype, proto, canonname, sa \u001b[38;5;241m=\u001b[39m res\n\u001b[1;32m    829\u001b[0m     sock \u001b[38;5;241m=\u001b[39m \u001b[38;5;28;01mNone\u001b[39;00m\n",
      "File \u001b[0;32m~/anaconda3/lib/python3.11/socket.py:962\u001b[0m, in \u001b[0;36mgetaddrinfo\u001b[0;34m(host, port, family, type, proto, flags)\u001b[0m\n\u001b[1;32m    959\u001b[0m \u001b[38;5;66;03m# We override this function since we want to translate the numeric family\u001b[39;00m\n\u001b[1;32m    960\u001b[0m \u001b[38;5;66;03m# and socket type values to enum constants.\u001b[39;00m\n\u001b[1;32m    961\u001b[0m addrlist \u001b[38;5;241m=\u001b[39m []\n\u001b[0;32m--> 962\u001b[0m \u001b[38;5;28;01mfor\u001b[39;00m res \u001b[38;5;129;01min\u001b[39;00m _socket\u001b[38;5;241m.\u001b[39mgetaddrinfo(host, port, family, \u001b[38;5;28mtype\u001b[39m, proto, flags):\n\u001b[1;32m    963\u001b[0m     af, socktype, proto, canonname, sa \u001b[38;5;241m=\u001b[39m res\n\u001b[1;32m    964\u001b[0m     addrlist\u001b[38;5;241m.\u001b[39mappend((_intenum_converter(af, AddressFamily),\n\u001b[1;32m    965\u001b[0m                      _intenum_converter(socktype, SocketKind),\n\u001b[1;32m    966\u001b[0m                      proto, canonname, sa))\n",
      "\u001b[0;31mKeyboardInterrupt\u001b[0m: "
     ]
    }
   ],
   "source": [
    "maturity_condition = 'days_to_maturity < 500'\n",
    "\n",
    "url =  \"https://deribit.com/api/v2/public/get_instruments?currency=BTC&kind=option&expired=false\"\n",
    "with urllib.request.urlopen(url) as url:\n",
    "    get_inst_names = json.loads(url.read().decode())\n",
    "\n",
    "inst_names = pd.DataFrame(get_inst_names['result'])#.set_index('instrument_name')\n",
    "inst_names['creation_date'] = pd.to_datetime(inst_names['creation_timestamp'], unit='ms')\n",
    "inst_names['expiration_date'] = pd.to_datetime(inst_names['expiration_timestamp'], unit='ms')\n",
    "\n",
    "\n",
    "api_data_list = []\n",
    "\n",
    "for x in inst_names['instrument_name']:\n",
    "    url = f'https://www.deribit.com/api/v2/public/get_order_book?instrument_name={x}&kind=option&expired=false'\n",
    "    with urllib.request.urlopen(url) as response:\n",
    "        api_data = json.loads(response.read().decode())\n",
    "\n",
    "    api_data_df = pd.DataFrame([api_data])\n",
    "    api_data_list.append(api_data_df)\n",
    "\n",
    "all_data = pd.concat(api_data_list, ignore_index=True)\n",
    "all_data = pd.json_normalize(all_data['result'])\n"
   ]
  },
  {
   "cell_type": "code",
   "execution_count": null,
   "id": "e5a9de0b-9458-4796-ba42-81fb36caab76",
   "metadata": {},
   "outputs": [],
   "source": [
    "exclude_columns = ['instrument_name', 'underlying_index']\n",
    "all_data = all_data.apply(lambda x: pd.to_numeric(x, errors='ignore') if x.name not in exclude_columns else x)\n"
   ]
  },
  {
   "cell_type": "code",
   "execution_count": null,
   "id": "6e174227-764b-4306-ae8b-d3f266c087e6",
   "metadata": {},
   "outputs": [],
   "source": [
    "strike = []\n",
    "for index, i in enumerate(data['instrument_name']):\n",
    "    i = float(i.split('-')[2])\n",
    "    strike.append(i)\n",
    "data[\"strikePx\"] = strike\n",
    "\n",
    "maturity = []\n",
    "for index, i in enumerate(data['instrument_name']):\n",
    "    i = i.split('-')[1]\n",
    "    i = pd.to_datetime(i, unit ='ns')\n",
    "    maturity.append(i)\n",
    "data[\"maturity\"] = maturity\n",
    "\n",
    "days_to_maturity = []\n",
    "for index, i in enumerate(data['maturity']):\n",
    "    i = (i - datetime.today()).days\n",
    "    days_to_maturity.append(i)\n",
    "data[\"days_to_maturity\"] = days_to_maturity\n",
    "\n",
    "\n",
    "# Moneyness, using forward price\n",
    "data['moneyness'] = data['strikePx'].astype(float)/ data['underlying_price'].astype(float)\n",
    "# 'underlying price' is the price of corresponding Futures\n",
    "\n",
    "#log Moneyness, making extreme values less extreme\n",
    "#data['moneyness'] = np.log(data['strikePx'].astype(float)/ data['fwdPx'].astype(float)) \n",
    "\n",
    "\n",
    "data.loc[data['instrument_name'].str.contains('-P'), 'moneyness'] = data.loc[data['instrument_name'].str.contains('-P'), 'moneyness'] * -1\n",
    "\n",
    "data = data.sort_values(['days_to_maturity','strikePx']).query('days_to_maturity > 0')\n",
    "all_calls = data[data['instrument_name'].str.contains('-C')].sort_values(['days_to_maturity', 'strikePx']).query('days_to_maturity > 0')\n",
    "all_puts = data[data['instrument_name'].str.contains('-P')].sort_values(['days_to_maturity', 'strikePx']).query('days_to_maturity > 0')"
   ]
  },
  {
   "cell_type": "code",
   "execution_count": 23,
   "id": "3f23dc44-517a-4982-8681-bf827c0b3db6",
   "metadata": {},
   "outputs": [],
   "source": [
    "#data.to_csv('btc.csv')\n",
    "data = pd.read_csv('btc.csv')"
   ]
  },
  {
   "cell_type": "code",
   "execution_count": 24,
   "id": "bd47bb11-8e7e-471a-88d7-e25caf4042d0",
   "metadata": {},
   "outputs": [
    {
     "data": {
      "image/png": "[encoded data removed]",
      "text/plain": [
       "<Figure size 1200x800 with 1 Axes>"
      ]
     },
     "metadata": {},
     "output_type": "display_data"
    }
   ],
   "source": [
    "import numpy as np\n",
    "import matplotlib.pyplot as plt\n",
    "\n",
    "# Extract unique maturity dates\n",
    "maturity_dates = data['maturity'].unique()\n",
    "\n",
    "# Define colors for different maturities\n",
    "colors = plt.cm.viridis(np.linspace(0, 1, len(maturity_dates)))\n",
    "\n",
    "# Plotting the volatility smile for each maturity date\n",
    "plt.figure(figsize=(12, 8))\n",
    "\n",
    "for i, maturity_date in enumerate(maturity_dates):\n",
    "    filtered_data = data[data['maturity'] == maturity_date]\n",
    "    plt.plot(filtered_data['strikePx'], filtered_data['mark_iv'], marker='o', linestyle='-', color=colors[i], label=maturity_date)\n",
    "\n",
    "plt.title('Volatility Smile for Different Maturity Dates')\n",
    "plt.xlabel('Strike Price')\n",
    "plt.ylabel('Implied Volatility')\n",
    "plt.legend(title='Maturity Date')\n",
    "plt.grid(True)\n",
    "plt.show()\n"
   ]
  },
  {
   "cell_type": "code",
   "execution_count": 26,
   "id": "0e621d06-14e2-405b-bdf6-9d2a97d32af9",
   "metadata": {},
   "outputs": [
    {
     "data": {
      "application/vnd.jupyter.widget-view+json": {
       "model_id": "425696a6e67a40a3b9d3b9df9d44d1d8",
       "version_major": 2,
       "version_minor": 0
      },
      "text/plain": [
       "Dropdown(description='Maturity:', options=('2024-06-22', '2024-06-28', '2024-07-05', '2024-07-26', '2024-08-30…"
      ]
     },
     "metadata": {},
     "output_type": "display_data"
    },
    {
     "data": {
      "application/vnd.jupyter.widget-view+json": {
       "model_id": "608682d9873f4d7db2f4a5d65c57f302",
       "version_major": 2,
       "version_minor": 0
      },
      "text/plain": [
       "Output()"
      ]
     },
     "metadata": {},
     "output_type": "display_data"
    }
   ],
   "source": [
    "import pandas as pd\n",
    "import plotly.graph_objects as go\n",
    "import ipywidgets as widgets\n",
    "from IPython.display import display\n",
    "\n",
    "# Filter the relevant columns\n",
    "filtered_data = data[['strikePx', 'mark_iv', 'maturity']]\n",
    "\n",
    "# List of unique maturity dates\n",
    "maturity_dates = filtered_data['maturity'].unique()\n",
    "\n",
    "# Create a dropdown widget for selecting maturity dates\n",
    "maturity_dropdown = widgets.Dropdown(\n",
    "    options=maturity_dates,\n",
    "    description='Maturity:',\n",
    "    disabled=False,\n",
    ")\n",
    "\n",
    "# Function to update the plot based on the selected maturity date\n",
    "def update_plot(maturity):\n",
    "    fig = go.Figure()\n",
    "    df = filtered_data[filtered_data['maturity'] == maturity]\n",
    "    fig.add_trace(go.Scatter(x=df['strikePx'], y=df['mark_iv'], mode='lines+markers', name=maturity))\n",
    "    \n",
    "    # Update layout for better visualization\n",
    "    fig.update_layout(\n",
    "        title=f'Volatility Smile for Maturity {maturity}',\n",
    "        xaxis_title='Strike Price',\n",
    "        yaxis_title='Implied Volatility (%)',\n",
    "        template='plotly_dark'\n",
    "    )\n",
    "    fig.show()\n",
    "\n",
    "# Create an interactive output widget\n",
    "output = widgets.interactive_output(update_plot, {'maturity': maturity_dropdown})\n",
    "\n",
    "# Display the widgets\n",
    "display(maturity_dropdown, output)"
   ]
  },
  {
   "cell_type": "code",
   "execution_count": 30,
   "id": "2ad45c8d-f1a1-4d0d-abe7-a8258623acad",
   "metadata": {},
   "outputs": [
    {
     "data": {
      "application/vnd.plotly.v1+json": {
       "config": {
        "plotlyServerURL": "https://plot.ly"
       },
       "data": [
        {
         "mode": "lines+markers",
         "name": "2024-06-22",
         "type": "scatter",
         "visible": true,
         "x": [
          58000,
          58000,
          59000,
          59000,
          60000,
          60000,
          61000,
          61000,
          62000,
          62000,
          62500,
          62500,
          63000,
          63000,
          63500,
          63500,
          64000,
          64000,
          64500,
          64500,
          65000,
          65000,
          65500,
          65500,
          66000,
          66000,
          66500,
          66500,
          67000,
          67000,
          67500,
          67500,
          68000,
          68000,
          68500,
          68500,
          69000,
          69000,
          69500,
          69500,
          70000,
          70000,
          71000,
          71000,
          72000,
          72000,
          73000,
          73000,
          74000,
          74000,
          75000,
          75000,
          76000,
          76000
         ],
         "y": [
          72.66,
          72.66,
          66.26,
          66.26,
          61.58,
          61.58,
          53.64,
          53.64,
          47.56,
          47.56,
          45.46,
          45.46,
          43.62,
          43.62,
          42.09,
          42.09,
          40.86,
          40.86,
          40.26,
          40.26,
          39.92,
          39.92,
          39.92,
          39.92,
          39.82,
          39.82,
          40.09,
          40.09,
          40.17,
          40.17,
          40.27,
          40.28,
          41.54,
          41.54,
          41.85,
          41.85,
          44.03,
          44.04,
          44.99,
          44.99,
          47.46,
          47.46,
          52.02,
          52.02,
          56.52,
          56.52,
          60.07,
          60.07,
          62.03,
          62.03,
          68.63,
          68.63,
          71.17,
          71.17
         ]
        },
        {
         "mode": "lines+markers",
         "name": "2024-06-28",
         "type": "scatter",
         "visible": true,
         "x": [
          10000,
          10000,
          15000,
          15000,
          18000,
          18000,
          19000,
          19000,
          20000,
          20000,
          21000,
          21000,
          22000,
          22000,
          23000,
          23000,
          24000,
          24000,
          25000,
          25000,
          26000,
          26000,
          27000,
          27000,
          28000,
          28000,
          29000,
          29000,
          30000,
          30000,
          31000,
          31000,
          32000,
          32000,
          33000,
          33000,
          34000,
          34000,
          35000,
          35000,
          36000,
          36000,
          37000,
          37000,
          38000,
          38000,
          39000,
          39000,
          40000,
          40000,
          41000,
          41000,
          42000,
          42000,
          43000,
          43000,
          44000,
          44000,
          45000,
          45000,
          46000,
          46000,
          47000,
          47000,
          48000,
          48000,
          49000,
          49000,
          50000,
          50000,
          51000,
          51000,
          52000,
          52000,
          53000,
          53000,
          54000,
          54000,
          55000,
          55000,
          56000,
          56000,
          57000,
          57000,
          58000,
          58000,
          60000,
          60000,
          62000,
          62000,
          64000,
          64000,
          65000,
          65000,
          66000,
          66000,
          67000,
          67000,
          68000,
          68000,
          69000,
          69000,
          70000,
          70000,
          72000,
          72000,
          74000,
          74000,
          75000,
          75000,
          78000,
          78000,
          80000,
          80000,
          85000,
          85000,
          90000,
          90000,
          95000,
          95000,
          100000,
          100000,
          105000,
          105000,
          110000,
          110000,
          115000,
          115000,
          120000,
          120000,
          140000,
          140000,
          160000,
          160000,
          200000,
          200000
         ],
         "y": [
          152.84,
          152.84,
          146.29,
          146.29,
          146.28,
          146.28,
          146.26,
          146.26,
          146.23,
          146.23,
          138.88,
          138.88,
          138.88,
          138.88,
          138.88,
          138.88,
          138.88,
          138.88,
          138.88,
          138.88,
          138.88,
          138.88,
          138.88,
          138.88,
          138.88,
          138.88,
          138.88,
          138.88,
          138.88,
          138.88,
          138.88,
          138.88,
          138.88,
          138.88,
          138.88,
          138.88,
          138.88,
          138.88,
          138.88,
          138.88,
          138.88,
          138.88,
          135.05,
          135.05,
          134.93,
          134.93,
          128.54,
          128.54,
          121.68,
          121.68,
          106.71,
          106.71,
          103.03,
          103.03,
          102.44,
          102.44,
          99.18,
          99.18,
          95.22,
          95.22,
          92.19,
          92.19,
          87.14,
          87.14,
          85,
          85,
          81.1,
          81.1,
          78.7,
          78.7,
          73.14,
          73.14,
          70.83,
          70.83,
          67.68,
          67.68,
          64.59,
          64.59,
          61.48,
          61.48,
          57.3,
          57.3,
          55.02,
          55.02,
          52.7,
          52.7,
          48.5,
          48.5,
          44.89,
          44.89,
          43.34,
          43.34,
          43.05,
          43.05,
          42.8,
          42.8,
          43.03,
          43.03,
          43.18,
          43.18,
          43.74,
          43.74,
          44.64,
          44.64,
          46.92,
          46.92,
          49.71,
          49.71,
          52.28,
          52.28,
          57.57,
          57.57,
          61.2,
          61.2,
          71.49,
          71.49,
          79.78,
          79.78,
          91.72,
          91.72,
          101.52,
          101.52,
          108.66,
          108.66,
          108.66,
          108.66,
          108.66,
          108.66,
          108.66,
          108.66,
          108.66,
          108.66,
          108.67,
          108.67,
          109.31,
          109.31
         ]
        },
        {
         "mode": "lines+markers",
         "name": "2024-07-05",
         "type": "scatter",
         "visible": true,
         "x": [
          52000,
          52000,
          54000,
          54000,
          56000,
          56000,
          58000,
          58000,
          60000,
          60000,
          61000,
          61000,
          62000,
          62000,
          63000,
          63000,
          64000,
          64000,
          65000,
          65000,
          66000,
          66000,
          67000,
          67000,
          68000,
          68000,
          69000,
          69000,
          70000,
          70000,
          71000,
          71000,
          72000,
          72000,
          73000,
          73000,
          74000,
          74000,
          76000,
          76000,
          78000,
          78000,
          80000,
          80000,
          82000,
          82000,
          84000,
          84000,
          86000,
          86000,
          88000,
          88000,
          90000,
          90000,
          92000,
          92000,
          94000,
          94000,
          96000,
          96000
         ],
         "y": [
          57.51,
          57.51,
          54.36,
          54.35,
          51.49,
          51.49,
          49.02,
          49.02,
          46.97,
          46.97,
          46.08,
          46.08,
          45.54,
          45.54,
          45.02,
          45.02,
          44.79,
          44.79,
          44.54,
          44.54,
          44.56,
          44.56,
          44.53,
          44.53,
          44.75,
          44.75,
          44.94,
          44.94,
          45.14,
          45.14,
          45.42,
          45.42,
          45.85,
          45.85,
          46.15,
          46.15,
          46.84,
          46.84,
          47.9,
          47.9,
          49.3,
          49.3,
          50.77,
          50.77,
          52.47,
          52.47,
          55.08,
          55.08,
          57.86,
          57.86,
          60.24,
          60.24,
          62.07,
          62.07,
          65.89,
          65.89,
          67.91,
          67.91,
          71.17,
          71.17
         ]
        },
        {
         "mode": "lines+markers",
         "name": "2024-07-26",
         "type": "scatter",
         "visible": true,
         "x": [
          25000,
          25000,
          30000,
          30000,
          35000,
          35000,
          40000,
          40000,
          44000,
          44000,
          45000,
          45000,
          46000,
          46000,
          48000,
          48000,
          50000,
          50000,
          52000,
          52000,
          53000,
          53000,
          54000,
          54000,
          55000,
          55000,
          56000,
          56000,
          57000,
          57000,
          58000,
          58000,
          59000,
          59000,
          60000,
          60000,
          61000,
          61000,
          62000,
          62000,
          63000,
          63000,
          64000,
          64000,
          65000,
          65000,
          66000,
          66000,
          67000,
          67000,
          68000,
          68000,
          69000,
          69000,
          70000,
          70000,
          71000,
          71000,
          72000,
          72000,
          73000,
          73000,
          74000,
          74000,
          75000,
          75000,
          76000,
          76000,
          77000,
          77000,
          78000,
          78000,
          79000,
          79000,
          80000,
          80000,
          82000,
          82000,
          84000,
          84000,
          85000,
          85000,
          86000,
          86000,
          88000,
          88000,
          90000,
          90000,
          92000,
          92000,
          95000,
          95000,
          100000,
          100000,
          105000,
          105000,
          110000,
          110000,
          120000,
          120000
         ],
         "y": [
          110.92,
          110.92,
          92.6,
          92.6,
          79.06,
          79.06,
          69.78,
          69.78,
          63.55,
          63.55,
          61.92,
          61.92,
          60.48,
          60.48,
          57.87,
          57.87,
          55.4,
          55.4,
          53.4,
          53.4,
          52.2,
          52.2,
          51.61,
          51.61,
          50.93,
          50.93,
          50.44,
          50.44,
          49.89,
          49.89,
          49.39,
          49.39,
          49.06,
          49.06,
          48.81,
          48.81,
          48.59,
          48.59,
          48.4,
          48.4,
          48.32,
          48.32,
          48.29,
          48.29,
          48.28,
          48.28,
          48.33,
          48.33,
          48.42,
          48.42,
          48.5,
          48.5,
          48.6,
          48.6,
          48.73,
          48.73,
          48.84,
          48.84,
          49.05,
          49.05,
          49.25,
          49.25,
          49.47,
          49.47,
          49.68,
          49.68,
          49.97,
          49.97,
          50.25,
          50.25,
          50.44,
          50.45,
          50.78,
          50.78,
          51.12,
          51.12,
          51.88,
          51.89,
          52.57,
          52.57,
          53.14,
          53.14,
          53.32,
          53.32,
          54.14,
          54.14,
          54.98,
          54.98,
          55.96,
          55.96,
          57.35,
          57.35,
          60.19,
          60.19,
          63.39,
          63.39,
          66.52,
          66.52,
          71.53,
          71.53
         ]
        },
        {
         "mode": "lines+markers",
         "name": "2024-08-30",
         "type": "scatter",
         "visible": true,
         "x": [
          30000,
          30000,
          35000,
          35000,
          40000,
          40000,
          45000,
          45000,
          50000,
          50000,
          52000,
          52000,
          54000,
          54000,
          56000,
          56000,
          58000,
          58000,
          59000,
          59000,
          60000,
          60000,
          61000,
          61000,
          62000,
          62000,
          63000,
          63000,
          64000,
          64000,
          65000,
          65000,
          66000,
          66000,
          67000,
          67000,
          68000,
          68000,
          69000,
          69000,
          70000,
          70000,
          71000,
          71000,
          72000,
          72000,
          73000,
          73000,
          74000,
          74000,
          75000,
          75000,
          76000,
          76000,
          77000,
          77000,
          78000,
          78000,
          79000,
          79000,
          80000,
          80000,
          82000,
          82000,
          84000,
          84000,
          85000,
          85000,
          86000,
          86000,
          88000,
          88000,
          90000,
          90000,
          92000,
          92000,
          94000,
          94000,
          95000,
          95000,
          100000,
          100000,
          105000,
          105000,
          110000,
          110000,
          115000,
          115000,
          120000,
          120000
         ],
         "y": [
          74.28,
          74.28,
          67.91,
          67.91,
          61.99,
          61.99,
          57.42,
          57.42,
          54.52,
          54.52,
          53.88,
          53.88,
          53.28,
          53.28,
          52.82,
          52.83,
          52.56,
          52.56,
          52.51,
          52.51,
          52.47,
          52.47,
          52.45,
          52.45,
          52.43,
          52.43,
          52.45,
          52.45,
          52.52,
          52.52,
          52.54,
          52.54,
          52.63,
          52.63,
          52.7,
          52.7,
          52.84,
          52.84,
          52.96,
          52.96,
          53.08,
          53.08,
          53.24,
          53.24,
          53.38,
          53.38,
          53.54,
          53.54,
          53.68,
          53.68,
          53.86,
          53.86,
          54.01,
          54.01,
          54.19,
          54.19,
          54.36,
          54.36,
          54.54,
          54.54,
          54.75,
          54.75,
          55.07,
          55.07,
          55.46,
          55.46,
          55.64,
          55.64,
          55.88,
          55.88,
          56.3,
          56.3,
          56.73,
          56.73,
          57.21,
          57.21,
          57.58,
          57.58,
          57.7,
          57.7,
          58.99,
          58.99,
          60.09,
          60.09,
          61.18,
          61.18,
          62.35,
          62.35,
          63.64,
          63.65
         ]
        },
        {
         "mode": "lines+markers",
         "name": "2024-09-27",
         "type": "scatter",
         "visible": true,
         "x": [
          10000,
          10000,
          15000,
          15000,
          18000,
          18000,
          19000,
          19000,
          20000,
          20000,
          21000,
          21000,
          22000,
          22000,
          23000,
          23000,
          24000,
          24000,
          25000,
          25000,
          26000,
          26000,
          27000,
          27000,
          28000,
          28000,
          29000,
          29000,
          30000,
          30000,
          31000,
          31000,
          32000,
          32000,
          33000,
          33000,
          34000,
          34000,
          35000,
          35000,
          36000,
          36000,
          37000,
          37000,
          38000,
          38000,
          39000,
          39000,
          40000,
          40000,
          41000,
          41000,
          42000,
          42000,
          43000,
          43000,
          44000,
          44000,
          45000,
          45000,
          46000,
          46000,
          47000,
          47000,
          48000,
          48000,
          49000,
          49000,
          50000,
          50000,
          51000,
          51000,
          52000,
          52000,
          53000,
          53000,
          54000,
          54000,
          55000,
          55000,
          56000,
          56000,
          57000,
          57000,
          58000,
          58000,
          59000,
          59000,
          60000,
          60000,
          62000,
          62000,
          65000,
          65000,
          70000,
          70000,
          75000,
          75000,
          80000,
          80000,
          85000,
          85000,
          90000,
          90000,
          95000,
          95000,
          100000,
          100000,
          105000,
          105000,
          110000,
          110000,
          115000,
          115000,
          120000,
          120000,
          125000,
          125000,
          130000,
          130000,
          140000,
          140000,
          160000,
          160000,
          180000,
          180000,
          200000,
          200000,
          240000,
          240000
         ],
         "y": [
          122.52,
          122.52,
          103.65,
          103.65,
          91.09,
          91.09,
          87.54,
          87.54,
          84.75,
          84.75,
          81.09,
          81.09,
          79.19,
          79.19,
          76.8,
          76.8,
          76.8,
          76.8,
          75.81,
          75.81,
          73.74,
          73.74,
          72.85,
          72.85,
          70.82,
          70.82,
          69.88,
          69.89,
          68.36,
          68.36,
          67.77,
          67.77,
          66.08,
          66.08,
          65.28,
          65.28,
          64.42,
          64.42,
          63.81,
          63.81,
          63.12,
          63.12,
          62.29,
          62.29,
          61.79,
          61.79,
          60.98,
          60.98,
          60.59,
          60.59,
          59.91,
          59.91,
          59.43,
          59.43,
          58.87,
          58.87,
          58.52,
          58.52,
          58.03,
          58.04,
          57.71,
          57.71,
          57.32,
          57.32,
          57.02,
          57.02,
          56.55,
          56.55,
          56.26,
          56.26,
          56.16,
          56.16,
          55.88,
          55.88,
          55.76,
          55.76,
          55.61,
          55.61,
          55.49,
          55.49,
          55.42,
          55.42,
          55.37,
          55.37,
          55.35,
          55.35,
          55.33,
          55.33,
          55.28,
          55.28,
          55.35,
          55.35,
          55.53,
          55.53,
          56.19,
          56.19,
          56.92,
          56.92,
          57.72,
          57.72,
          58.61,
          58.61,
          59.53,
          59.53,
          60.47,
          60.47,
          61.5,
          61.5,
          62.42,
          62.42,
          63.58,
          63.58,
          64.47,
          64.47,
          65.22,
          65.22,
          66.06,
          66.06,
          67.23,
          67.23,
          68.71,
          68.71,
          71.83,
          71.83,
          74.02,
          74.02,
          75.81,
          75.81,
          80.6,
          80.6
         ]
        },
        {
         "mode": "lines+markers",
         "name": "2024-12-27",
         "type": "scatter",
         "visible": true,
         "x": [
          10000,
          10000,
          15000,
          15000,
          20000,
          20000,
          25000,
          25000,
          28000,
          28000,
          29000,
          29000,
          30000,
          30000,
          31000,
          31000,
          32000,
          32000,
          33000,
          33000,
          34000,
          34000,
          35000,
          35000,
          36000,
          36000,
          37000,
          37000,
          38000,
          38000,
          39000,
          39000,
          40000,
          40000,
          41000,
          41000,
          42000,
          42000,
          43000,
          43000,
          44000,
          44000,
          45000,
          45000,
          46000,
          46000,
          47000,
          47000,
          48000,
          48000,
          49000,
          49000,
          50000,
          50000,
          51000,
          51000,
          52000,
          52000,
          53000,
          53000,
          54000,
          54000,
          55000,
          55000,
          56000,
          56000,
          57000,
          57000,
          58000,
          58000,
          59000,
          59000,
          60000,
          60000,
          61000,
          61000,
          62000,
          62000,
          63000,
          63000,
          65000,
          65000,
          70000,
          70000,
          75000,
          75000,
          80000,
          80000,
          85000,
          85000,
          90000,
          90000,
          95000,
          95000,
          100000,
          100000,
          105000,
          105000,
          110000,
          110000,
          115000,
          115000,
          120000,
          120000,
          125000,
          125000,
          130000,
          130000,
          135000,
          135000,
          140000,
          140000,
          150000,
          150000,
          160000,
          160000,
          180000,
          180000,
          200000,
          200000,
          240000,
          240000,
          300000,
          300000
         ],
         "y": [
          100.78,
          100.78,
          85.6,
          85.6,
          74.4,
          74.4,
          66.77,
          66.77,
          65.42,
          65.42,
          65.34,
          65.34,
          64.61,
          64.61,
          64.25,
          64.25,
          63.59,
          63.59,
          63.3,
          63.3,
          63.18,
          63.18,
          62.57,
          62.57,
          62.48,
          62.48,
          62.21,
          62.21,
          61.96,
          61.96,
          61.79,
          61.79,
          61.71,
          61.71,
          61.52,
          61.52,
          61.51,
          61.51,
          61.49,
          61.49,
          61.49,
          61.49,
          61.49,
          61.49,
          61.49,
          61.49,
          61.49,
          61.49,
          61.49,
          61.49,
          61.49,
          61.49,
          61.49,
          61.49,
          61.49,
          61.49,
          61.49,
          61.49,
          61.49,
          61.49,
          61.49,
          61.49,
          61.49,
          61.49,
          61.49,
          61.5,
          61.5,
          61.5,
          61.5,
          61.5,
          61.5,
          61.5,
          61.5,
          61.5,
          61.48,
          61.48,
          61.55,
          61.55,
          61.71,
          61.71,
          61.74,
          61.74,
          62.27,
          62.27,
          62.91,
          62.91,
          63.45,
          63.45,
          63.99,
          63.99,
          64.48,
          64.48,
          65.05,
          65.05,
          65.61,
          65.61,
          66.16,
          66.16,
          66.71,
          66.71,
          67.28,
          67.28,
          67.84,
          67.84,
          68.39,
          68.39,
          68.92,
          68.92,
          69.41,
          69.41,
          69.9,
          69.9,
          70.73,
          70.73,
          71.55,
          71.55,
          73.08,
          73.08,
          74.88,
          74.88,
          77.62,
          77.62,
          81.82,
          81.82
         ]
        },
        {
         "mode": "lines+markers",
         "name": "2025-03-28",
         "type": "scatter",
         "visible": true,
         "x": [
          20000,
          20000,
          30000,
          30000,
          40000,
          40000,
          50000,
          50000,
          55000,
          55000,
          60000,
          60000,
          65000,
          65000,
          70000,
          70000,
          75000,
          75000,
          80000,
          80000,
          85000,
          85000,
          90000,
          90000,
          100000,
          100000,
          110000,
          110000,
          120000,
          120000,
          130000,
          130000,
          140000,
          140000,
          150000,
          150000,
          160000,
          160000,
          180000,
          180000,
          200000,
          200000,
          220000,
          220000,
          250000,
          250000,
          300000,
          300000
         ],
         "y": [
          68.25,
          68.25,
          64.63,
          64.63,
          63.84,
          63.84,
          63.84,
          63.84,
          63.84,
          63.84,
          63.84,
          63.84,
          63.79,
          63.79,
          64.24,
          64.24,
          64.78,
          64.78,
          65.15,
          65.15,
          65.67,
          65.67,
          65.85,
          65.85,
          66.99,
          66.99,
          67.81,
          67.81,
          68.61,
          68.61,
          69.39,
          69.39,
          70.13,
          70.13,
          70.91,
          70.91,
          71.5,
          71.5,
          72.67,
          72.67,
          73.57,
          73.57,
          74.4,
          74.4,
          75.69,
          75.69,
          77.99,
          77.99
         ]
        }
       ],
       "layout": {
        "autosize": true,
        "template": {
         "data": {
          "bar": [
           {
            "error_x": {
             "color": "#f2f5fa"
            },
            "error_y": {
             "color": "#f2f5fa"
            },
            "marker": {
             "line": {
              "color": "rgb(17,17,17)",
              "width": 0.5
             },
             "pattern": {
              "fillmode": "overlay",
              "size": 10,
              "solidity": 0.2
             }
            },
            "type": "bar"
           }
          ],
          "barpolar": [
           {
            "marker": {
             "line": {
              "color": "rgb(17,17,17)",
              "width": 0.5
             },
             "pattern": {
              "fillmode": "overlay",
              "size": 10,
              "solidity": 0.2
             }
            },
            "type": "barpolar"
           }
          ],
          "carpet": [
           {
            "aaxis": {
             "endlinecolor": "#A2B1C6",
             "gridcolor": "#506784",
             "linecolor": "#506784",
             "minorgridcolor": "#506784",
             "startlinecolor": "#A2B1C6"
            },
            "baxis": {
             "endlinecolor": "#A2B1C6",
             "gridcolor": "#506784",
             "linecolor": "#506784",
             "minorgridcolor": "#506784",
             "startlinecolor": "#A2B1C6"
            },
            "type": "carpet"
           }
          ],
          "choropleth": [
           {
            "colorbar": {
             "outlinewidth": 0,
             "ticks": ""
            },
            "type": "choropleth"
           }
          ],
          "contour": [
           {
            "colorbar": {
             "outlinewidth": 0,
             "ticks": ""
            },
            "colorscale": [
             [
              0,
              "#0d0887"
             ],
             [
              0.1111111111111111,
              "#46039f"
             ],
             [
              0.2222222222222222,
              "#7201a8"
             ],
             [
              0.3333333333333333,
              "#9c179e"
             ],
             [
              0.4444444444444444,
              "#bd3786"
             ],
             [
              0.5555555555555556,
              "#d8576b"
             ],
             [
              0.6666666666666666,
              "#ed7953"
             ],
             [
              0.7777777777777778,
              "#fb9f3a"
             ],
             [
              0.8888888888888888,
              "#fdca26"
             ],
             [
              1,
              "#f0f921"
             ]
            ],
            "type": "contour"
           }
          ],
          "contourcarpet": [
           {
            "colorbar": {
             "outlinewidth": 0,
             "ticks": ""
            },
            "type": "contourcarpet"
           }
          ],
          "heatmap": [
           {
            "colorbar": {
             "outlinewidth": 0,
             "ticks": ""
            },
            "colorscale": [
             [
              0,
              "#0d0887"
             ],
             [
              0.1111111111111111,
              "#46039f"
             ],
             [
              0.2222222222222222,
              "#7201a8"
             ],
             [
              0.3333333333333333,
              "#9c179e"
             ],
             [
              0.4444444444444444,
              "#bd3786"
             ],
             [
              0.5555555555555556,
              "#d8576b"
             ],
             [
              0.6666666666666666,
              "#ed7953"
             ],
             [
              0.7777777777777778,
              "#fb9f3a"
             ],
             [
              0.8888888888888888,
              "#fdca26"
             ],
             [
              1,
              "#f0f921"
             ]
            ],
            "type": "heatmap"
           }
          ],
          "heatmapgl": [
           {
            "colorbar": {
             "outlinewidth": 0,
             "ticks": ""
            },
            "colorscale": [
             [
              0,
              "#0d0887"
             ],
             [
              0.1111111111111111,
              "#46039f"
             ],
             [
              0.2222222222222222,
              "#7201a8"
             ],
             [
              0.3333333333333333,
              "#9c179e"
             ],
             [
              0.4444444444444444,
              "#bd3786"
             ],
             [
              0.5555555555555556,
              "#d8576b"
             ],
             [
              0.6666666666666666,
              "#ed7953"
             ],
             [
              0.7777777777777778,
              "#fb9f3a"
             ],
             [
              0.8888888888888888,
              "#fdca26"
             ],
             [
              1,
              "#f0f921"
             ]
            ],
            "type": "heatmapgl"
           }
          ],
          "histogram": [
           {
            "marker": {
             "pattern": {
              "fillmode": "overlay",
              "size": 10,
              "solidity": 0.2
             }
            },
            "type": "histogram"
           }
          ],
          "histogram2d": [
           {
            "colorbar": {
             "outlinewidth": 0,
             "ticks": ""
            },
            "colorscale": [
             [
              0,
              "#0d0887"
             ],
             [
              0.1111111111111111,
              "#46039f"
             ],
             [
              0.2222222222222222,
              "#7201a8"
             ],
             [
              0.3333333333333333,
              "#9c179e"
             ],
             [
              0.4444444444444444,
              "#bd3786"
             ],
             [
              0.5555555555555556,
              "#d8576b"
             ],
             [
              0.6666666666666666,
              "#ed7953"
             ],
             [
              0.7777777777777778,
              "#fb9f3a"
             ],
             [
              0.8888888888888888,
              "#fdca26"
             ],
             [
              1,
              "#f0f921"
             ]
            ],
            "type": "histogram2d"
           }
          ],
          "histogram2dcontour": [
           {
            "colorbar": {
             "outlinewidth": 0,
             "ticks": ""
            },
            "colorscale": [
             [
              0,
              "#0d0887"
             ],
             [
              0.1111111111111111,
              "#46039f"
             ],
             [
              0.2222222222222222,
              "#7201a8"
             ],
             [
              0.3333333333333333,
              "#9c179e"
             ],
             [
              0.4444444444444444,
              "#bd3786"
             ],
             [
              0.5555555555555556,
              "#d8576b"
             ],
             [
              0.6666666666666666,
              "#ed7953"
             ],
             [
              0.7777777777777778,
              "#fb9f3a"
             ],
             [
              0.8888888888888888,
              "#fdca26"
             ],
             [
              1,
              "#f0f921"
             ]
            ],
            "type": "histogram2dcontour"
           }
          ],
          "mesh3d": [
           {
            "colorbar": {
             "outlinewidth": 0,
             "ticks": ""
            },
            "type": "mesh3d"
           }
          ],
          "parcoords": [
           {
            "line": {
             "colorbar": {
              "outlinewidth": 0,
              "ticks": ""
             }
            },
            "type": "parcoords"
           }
          ],
          "pie": [
           {
            "automargin": true,
            "type": "pie"
           }
          ],
          "scatter": [
           {
            "marker": {
             "line": {
              "color": "#283442"
             }
            },
            "type": "scatter"
           }
          ],
          "scatter3d": [
           {
            "line": {
             "colorbar": {
              "outlinewidth": 0,
              "ticks": ""
             }
            },
            "marker": {
             "colorbar": {
              "outlinewidth": 0,
              "ticks": ""
             }
            },
            "type": "scatter3d"
           }
          ],
          "scattercarpet": [
           {
            "marker": {
             "colorbar": {
              "outlinewidth": 0,
              "ticks": ""
             }
            },
            "type": "scattercarpet"
           }
          ],
          "scattergeo": [
           {
            "marker": {
             "colorbar": {
              "outlinewidth": 0,
              "ticks": ""
             }
            },
            "type": "scattergeo"
           }
          ],
          "scattergl": [
           {
            "marker": {
             "line": {
              "color": "#283442"
             }
            },
            "type": "scattergl"
           }
          ],
          "scattermapbox": [
           {
            "marker": {
             "colorbar": {
              "outlinewidth": 0,
              "ticks": ""
             }
            },
            "type": "scattermapbox"
           }
          ],
          "scatterpolar": [
           {
            "marker": {
             "colorbar": {
              "outlinewidth": 0,
              "ticks": ""
             }
            },
            "type": "scatterpolar"
           }
          ],
          "scatterpolargl": [
           {
            "marker": {
             "colorbar": {
              "outlinewidth": 0,
              "ticks": ""
             }
            },
            "type": "scatterpolargl"
           }
          ],
          "scatterternary": [
           {
            "marker": {
             "colorbar": {
              "outlinewidth": 0,
              "ticks": ""
             }
            },
            "type": "scatterternary"
           }
          ],
          "surface": [
           {
            "colorbar": {
             "outlinewidth": 0,
             "ticks": ""
            },
            "colorscale": [
             [
              0,
              "#0d0887"
             ],
             [
              0.1111111111111111,
              "#46039f"
             ],
             [
              0.2222222222222222,
              "#7201a8"
             ],
             [
              0.3333333333333333,
              "#9c179e"
             ],
             [
              0.4444444444444444,
              "#bd3786"
             ],
             [
              0.5555555555555556,
              "#d8576b"
             ],
             [
              0.6666666666666666,
              "#ed7953"
             ],
             [
              0.7777777777777778,
              "#fb9f3a"
             ],
             [
              0.8888888888888888,
              "#fdca26"
             ],
             [
              1,
              "#f0f921"
             ]
            ],
            "type": "surface"
           }
          ],
          "table": [
           {
            "cells": {
             "fill": {
              "color": "#506784"
             },
             "line": {
              "color": "rgb(17,17,17)"
             }
            },
            "header": {
             "fill": {
              "color": "#2a3f5f"
             },
             "line": {
              "color": "rgb(17,17,17)"
             }
            },
            "type": "table"
           }
          ]
         },
         "layout": {
          "annotationdefaults": {
           "arrowcolor": "#f2f5fa",
           "arrowhead": 0,
           "arrowwidth": 1
          },
          "autotypenumbers": "strict",
          "coloraxis": {
           "colorbar": {
            "outlinewidth": 0,
            "ticks": ""
           }
          },
          "colorscale": {
           "diverging": [
            [
             0,
             "#8e0152"
            ],
            [
             0.1,
             "#c51b7d"
            ],
            [
             0.2,
             "#de77ae"
            ],
            [
             0.3,
             "#f1b6da"
            ],
            [
             0.4,
             "#fde0ef"
            ],
            [
             0.5,
             "#f7f7f7"
            ],
            [
             0.6,
             "#e6f5d0"
            ],
            [
             0.7,
             "#b8e186"
            ],
            [
             0.8,
             "#7fbc41"
            ],
            [
             0.9,
             "#4d9221"
            ],
            [
             1,
             "#276419"
            ]
           ],
           "sequential": [
            [
             0,
             "#0d0887"
            ],
            [
             0.1111111111111111,
             "#46039f"
            ],
            [
             0.2222222222222222,
             "#7201a8"
            ],
            [
             0.3333333333333333,
             "#9c179e"
            ],
            [
             0.4444444444444444,
             "#bd3786"
            ],
            [
             0.5555555555555556,
             "#d8576b"
            ],
            [
             0.6666666666666666,
             "#ed7953"
            ],
            [
             0.7777777777777778,
             "#fb9f3a"
            ],
            [
             0.8888888888888888,
             "#fdca26"
            ],
            [
             1,
             "#f0f921"
            ]
           ],
           "sequentialminus": [
            [
             0,
             "#0d0887"
            ],
            [
             0.1111111111111111,
             "#46039f"
            ],
            [
             0.2222222222222222,
             "#7201a8"
            ],
            [
             0.3333333333333333,
             "#9c179e"
            ],
            [
             0.4444444444444444,
             "#bd3786"
            ],
            [
             0.5555555555555556,
             "#d8576b"
            ],
            [
             0.6666666666666666,
             "#ed7953"
            ],
            [
             0.7777777777777778,
             "#fb9f3a"
            ],
            [
             0.8888888888888888,
             "#fdca26"
            ],
            [
             1,
             "#f0f921"
            ]
           ]
          },
          "colorway": [
           "#636efa",
           "#EF553B",
           "#00cc96",
           "#ab63fa",
           "#FFA15A",
           "#19d3f3",
           "#FF6692",
           "#B6E880",
           "#FF97FF",
           "#FECB52"
          ],
          "font": {
           "color": "#f2f5fa"
          },
          "geo": {
           "bgcolor": "rgb(17,17,17)",
           "lakecolor": "rgb(17,17,17)",
           "landcolor": "rgb(17,17,17)",
           "showlakes": true,
           "showland": true,
           "subunitcolor": "#506784"
          },
          "hoverlabel": {
           "align": "left"
          },
          "hovermode": "closest",
          "mapbox": {
           "style": "dark"
          },
          "paper_bgcolor": "rgb(17,17,17)",
          "plot_bgcolor": "rgb(17,17,17)",
          "polar": {
           "angularaxis": {
            "gridcolor": "#506784",
            "linecolor": "#506784",
            "ticks": ""
           },
           "bgcolor": "rgb(17,17,17)",
           "radialaxis": {
            "gridcolor": "#506784",
            "linecolor": "#506784",
            "ticks": ""
           }
          },
          "scene": {
           "xaxis": {
            "backgroundcolor": "rgb(17,17,17)",
            "gridcolor": "#506784",
            "gridwidth": 2,
            "linecolor": "#506784",
            "showbackground": true,
            "ticks": "",
            "zerolinecolor": "#C8D4E3"
           },
           "yaxis": {
            "backgroundcolor": "rgb(17,17,17)",
            "gridcolor": "#506784",
            "gridwidth": 2,
            "linecolor": "#506784",
            "showbackground": true,
            "ticks": "",
            "zerolinecolor": "#C8D4E3"
           },
           "zaxis": {
            "backgroundcolor": "rgb(17,17,17)",
            "gridcolor": "#506784",
            "gridwidth": 2,
            "linecolor": "#506784",
            "showbackground": true,
            "ticks": "",
            "zerolinecolor": "#C8D4E3"
           }
          },
          "shapedefaults": {
           "line": {
            "color": "#f2f5fa"
           }
          },
          "sliderdefaults": {
           "bgcolor": "#C8D4E3",
           "bordercolor": "rgb(17,17,17)",
           "borderwidth": 1,
           "tickwidth": 0
          },
          "ternary": {
           "aaxis": {
            "gridcolor": "#506784",
            "linecolor": "#506784",
            "ticks": ""
           },
           "baxis": {
            "gridcolor": "#506784",
            "linecolor": "#506784",
            "ticks": ""
           },
           "bgcolor": "rgb(17,17,17)",
           "caxis": {
            "gridcolor": "#506784",
            "linecolor": "#506784",
            "ticks": ""
           }
          },
          "title": {
           "x": 0.05
          },
          "updatemenudefaults": {
           "bgcolor": "#506784",
           "borderwidth": 0
          },
          "xaxis": {
           "automargin": true,
           "gridcolor": "#283442",
           "linecolor": "#506784",
           "ticks": "",
           "title": {
            "standoff": 15
           },
           "zerolinecolor": "#283442",
           "zerolinewidth": 2
          },
          "yaxis": {
           "automargin": true,
           "gridcolor": "#283442",
           "linecolor": "#506784",
           "ticks": "",
           "title": {
            "standoff": 15
           },
           "zerolinecolor": "#283442",
           "zerolinewidth": 2
          }
         }
        },
        "title": {
         "text": "Volatility Smile for Different Maturities"
        },
        "xaxis": {
         "autorange": true,
         "range": [
          -7635.62957355539,
          317635.6295735554
         ],
         "showspikes": false,
         "title": {
          "text": "Strike Price"
         },
         "type": "linear"
        },
        "yaxis": {
         "autorange": true,
         "range": [
          32.27008097165992,
          160.38991902834007
         ],
         "showspikes": false,
         "title": {
          "text": "Implied Volatility (%)"
         },
         "type": "linear"
        }
       }
      },
      "image/png": "[encoded data removed]",
      "text/html": [
       "<div>                            <div id=\"f687c9ea-07ea-457b-ba9a-af76a2481bc7\" class=\"plotly-graph-div\" style=\"height:600px; width:100%;\"></div>            <script type=\"text/javascript\">                require([\"plotly\"], function(Plotly) {                    window.PLOTLYENV=window.PLOTLYENV || {};                                    if (document.getElementById(\"f687c9ea-07ea-457b-ba9a-af76a2481bc7\")) {                    Plotly.newPlot(                        \"f687c9ea-07ea-457b-ba9a-af76a2481bc7\",                        [{\"mode\":\"lines+markers\",\"name\":\"2024-06-22\",\"x\":[58000.0,58000.0,59000.0,59000.0,60000.0,60000.0,61000.0,61000.0,62000.0,62000.0,62500.0,62500.0,63000.0,63000.0,63500.0,63500.0,64000.0,64000.0,64500.0,64500.0,65000.0,65000.0,65500.0,65500.0,66000.0,66000.0,66500.0,66500.0,67000.0,67000.0,67500.0,67500.0,68000.0,68000.0,68500.0,68500.0,69000.0,69000.0,69500.0,69500.0,70000.0,70000.0,71000.0,71000.0,72000.0,72000.0,73000.0,73000.0,74000.0,74000.0,75000.0,75000.0,76000.0,76000.0],\"y\":[72.66,72.66,66.26,66.26,61.58,61.58,53.64,53.64,47.56,47.56,45.46,45.46,43.62,43.62,42.09,42.09,40.86,40.86,40.26,40.26,39.92,39.92,39.92,39.92,39.82,39.82,40.09,40.09,40.17,40.17,40.27,40.28,41.54,41.54,41.85,41.85,44.03,44.04,44.99,44.99,47.46,47.46,52.02,52.02,56.52,56.52,60.07,60.07,62.03,62.03,68.63,68.63,71.17,71.17],\"type\":\"scatter\"},{\"mode\":\"lines+markers\",\"name\":\"2024-06-28\",\"x\":[10000.0,10000.0,15000.0,15000.0,18000.0,18000.0,19000.0,19000.0,20000.0,20000.0,21000.0,21000.0,22000.0,22000.0,23000.0,23000.0,24000.0,24000.0,25000.0,25000.0,26000.0,26000.0,27000.0,27000.0,28000.0,28000.0,29000.0,29000.0,30000.0,30000.0,31000.0,31000.0,32000.0,32000.0,33000.0,33000.0,34000.0,34000.0,35000.0,35000.0,36000.0,36000.0,37000.0,37000.0,38000.0,38000.0,39000.0,39000.0,40000.0,40000.0,41000.0,41000.0,42000.0,42000.0,43000.0,43000.0,44000.0,44000.0,45000.0,45000.0,46000.0,46000.0,47000.0,47000.0,48000.0,48000.0,49000.0,49000.0,50000.0,50000.0,51000.0,51000.0,52000.0,52000.0,53000.0,53000.0,54000.0,54000.0,55000.0,55000.0,56000.0,56000.0,57000.0,57000.0,58000.0,58000.0,60000.0,60000.0,62000.0,62000.0,64000.0,64000.0,65000.0,65000.0,66000.0,66000.0,67000.0,67000.0,68000.0,68000.0,69000.0,69000.0,70000.0,70000.0,72000.0,72000.0,74000.0,74000.0,75000.0,75000.0,78000.0,78000.0,80000.0,80000.0,85000.0,85000.0,90000.0,90000.0,95000.0,95000.0,100000.0,100000.0,105000.0,105000.0,110000.0,110000.0,115000.0,115000.0,120000.0,120000.0,140000.0,140000.0,160000.0,160000.0,200000.0,200000.0],\"y\":[152.84,152.84,146.29,146.29,146.28,146.28,146.26,146.26,146.23,146.23,138.88,138.88,138.88,138.88,138.88,138.88,138.88,138.88,138.88,138.88,138.88,138.88,138.88,138.88,138.88,138.88,138.88,138.88,138.88,138.88,138.88,138.88,138.88,138.88,138.88,138.88,138.88,138.88,138.88,138.88,138.88,138.88,135.05,135.05,134.93,134.93,128.54,128.54,121.68,121.68,106.71,106.71,103.03,103.03,102.44,102.44,99.18,99.18,95.22,95.22,92.19,92.19,87.14,87.14,85.0,85.0,81.1,81.1,78.7,78.7,73.14,73.14,70.83,70.83,67.68,67.68,64.59,64.59,61.48,61.48,57.3,57.3,55.02,55.02,52.7,52.7,48.5,48.5,44.89,44.89,43.34,43.34,43.05,43.05,42.8,42.8,43.03,43.03,43.18,43.18,43.74,43.74,44.64,44.64,46.92,46.92,49.71,49.71,52.28,52.28,57.57,57.57,61.2,61.2,71.49,71.49,79.78,79.78,91.72,91.72,101.52,101.52,108.66,108.66,108.66,108.66,108.66,108.66,108.66,108.66,108.66,108.66,108.67,108.67,109.31,109.31],\"type\":\"scatter\"},{\"mode\":\"lines+markers\",\"name\":\"2024-07-05\",\"x\":[52000.0,52000.0,54000.0,54000.0,56000.0,56000.0,58000.0,58000.0,60000.0,60000.0,61000.0,61000.0,62000.0,62000.0,63000.0,63000.0,64000.0,64000.0,65000.0,65000.0,66000.0,66000.0,67000.0,67000.0,68000.0,68000.0,69000.0,69000.0,70000.0,70000.0,71000.0,71000.0,72000.0,72000.0,73000.0,73000.0,74000.0,74000.0,76000.0,76000.0,78000.0,78000.0,80000.0,80000.0,82000.0,82000.0,84000.0,84000.0,86000.0,86000.0,88000.0,88000.0,90000.0,90000.0,92000.0,92000.0,94000.0,94000.0,96000.0,96000.0],\"y\":[57.51,57.51,54.36,54.35,51.49,51.49,49.02,49.02,46.97,46.97,46.08,46.08,45.54,45.54,45.02,45.02,44.79,44.79,44.54,44.54,44.56,44.56,44.53,44.53,44.75,44.75,44.94,44.94,45.14,45.14,45.42,45.42,45.85,45.85,46.15,46.15,46.84,46.84,47.9,47.9,49.3,49.3,50.77,50.77,52.47,52.47,55.08,55.08,57.86,57.86,60.24,60.24,62.07,62.07,65.89,65.89,67.91,67.91,71.17,71.17],\"type\":\"scatter\"},{\"mode\":\"lines+markers\",\"name\":\"2024-07-26\",\"x\":[25000.0,25000.0,30000.0,30000.0,35000.0,35000.0,40000.0,40000.0,44000.0,44000.0,45000.0,45000.0,46000.0,46000.0,48000.0,48000.0,50000.0,50000.0,52000.0,52000.0,53000.0,53000.0,54000.0,54000.0,55000.0,55000.0,56000.0,56000.0,57000.0,57000.0,58000.0,58000.0,59000.0,59000.0,60000.0,60000.0,61000.0,61000.0,62000.0,62000.0,63000.0,63000.0,64000.0,64000.0,65000.0,65000.0,66000.0,66000.0,67000.0,67000.0,68000.0,68000.0,69000.0,69000.0,70000.0,70000.0,71000.0,71000.0,72000.0,72000.0,73000.0,73000.0,74000.0,74000.0,75000.0,75000.0,76000.0,76000.0,77000.0,77000.0,78000.0,78000.0,79000.0,79000.0,80000.0,80000.0,82000.0,82000.0,84000.0,84000.0,85000.0,85000.0,86000.0,86000.0,88000.0,88000.0,90000.0,90000.0,92000.0,92000.0,95000.0,95000.0,100000.0,100000.0,105000.0,105000.0,110000.0,110000.0,120000.0,120000.0],\"y\":[110.92,110.92,92.6,92.6,79.06,79.06,69.78,69.78,63.55,63.55,61.92,61.92,60.48,60.48,57.87,57.87,55.4,55.4,53.4,53.4,52.2,52.2,51.61,51.61,50.93,50.93,50.44,50.44,49.89,49.89,49.39,49.39,49.06,49.06,48.81,48.81,48.59,48.59,48.4,48.4,48.32,48.32,48.29,48.29,48.28,48.28,48.33,48.33,48.42,48.42,48.5,48.5,48.6,48.6,48.73,48.73,48.84,48.84,49.05,49.05,49.25,49.25,49.47,49.47,49.68,49.68,49.97,49.97,50.25,50.25,50.44,50.45,50.78,50.78,51.12,51.12,51.88,51.89,52.57,52.57,53.14,53.14,53.32,53.32,54.14,54.14,54.98,54.98,55.96,55.96,57.35,57.35,60.19,60.19,63.39,63.39,66.52,66.52,71.53,71.53],\"type\":\"scatter\"},{\"mode\":\"lines+markers\",\"name\":\"2024-08-30\",\"x\":[30000.0,30000.0,35000.0,35000.0,40000.0,40000.0,45000.0,45000.0,50000.0,50000.0,52000.0,52000.0,54000.0,54000.0,56000.0,56000.0,58000.0,58000.0,59000.0,59000.0,60000.0,60000.0,61000.0,61000.0,62000.0,62000.0,63000.0,63000.0,64000.0,64000.0,65000.0,65000.0,66000.0,66000.0,67000.0,67000.0,68000.0,68000.0,69000.0,69000.0,70000.0,70000.0,71000.0,71000.0,72000.0,72000.0,73000.0,73000.0,74000.0,74000.0,75000.0,75000.0,76000.0,76000.0,77000.0,77000.0,78000.0,78000.0,79000.0,79000.0,80000.0,80000.0,82000.0,82000.0,84000.0,84000.0,85000.0,85000.0,86000.0,86000.0,88000.0,88000.0,90000.0,90000.0,92000.0,92000.0,94000.0,94000.0,95000.0,95000.0,100000.0,100000.0,105000.0,105000.0,110000.0,110000.0,115000.0,115000.0,120000.0,120000.0],\"y\":[74.28,74.28,67.91,67.91,61.99,61.99,57.42,57.42,54.52,54.52,53.88,53.88,53.28,53.28,52.82,52.83,52.56,52.56,52.51,52.51,52.47,52.47,52.45,52.45,52.43,52.43,52.45,52.45,52.52,52.52,52.54,52.54,52.63,52.63,52.7,52.7,52.84,52.84,52.96,52.96,53.08,53.08,53.24,53.24,53.38,53.38,53.54,53.54,53.68,53.68,53.86,53.86,54.01,54.01,54.19,54.19,54.36,54.36,54.54,54.54,54.75,54.75,55.07,55.07,55.46,55.46,55.64,55.64,55.88,55.88,56.3,56.3,56.73,56.73,57.21,57.21,57.58,57.58,57.7,57.7,58.99,58.99,60.09,60.09,61.18,61.18,62.35,62.35,63.64,63.65],\"type\":\"scatter\"},{\"mode\":\"lines+markers\",\"name\":\"2024-09-27\",\"x\":[10000.0,10000.0,15000.0,15000.0,18000.0,18000.0,19000.0,19000.0,20000.0,20000.0,21000.0,21000.0,22000.0,22000.0,23000.0,23000.0,24000.0,24000.0,25000.0,25000.0,26000.0,26000.0,27000.0,27000.0,28000.0,28000.0,29000.0,29000.0,30000.0,30000.0,31000.0,31000.0,32000.0,32000.0,33000.0,33000.0,34000.0,34000.0,35000.0,35000.0,36000.0,36000.0,37000.0,37000.0,38000.0,38000.0,39000.0,39000.0,40000.0,40000.0,41000.0,41000.0,42000.0,42000.0,43000.0,43000.0,44000.0,44000.0,45000.0,45000.0,46000.0,46000.0,47000.0,47000.0,48000.0,48000.0,49000.0,49000.0,50000.0,50000.0,51000.0,51000.0,52000.0,52000.0,53000.0,53000.0,54000.0,54000.0,55000.0,55000.0,56000.0,56000.0,57000.0,57000.0,58000.0,58000.0,59000.0,59000.0,60000.0,60000.0,62000.0,62000.0,65000.0,65000.0,70000.0,70000.0,75000.0,75000.0,80000.0,80000.0,85000.0,85000.0,90000.0,90000.0,95000.0,95000.0,100000.0,100000.0,105000.0,105000.0,110000.0,110000.0,115000.0,115000.0,120000.0,120000.0,125000.0,125000.0,130000.0,130000.0,140000.0,140000.0,160000.0,160000.0,180000.0,180000.0,200000.0,200000.0,240000.0,240000.0],\"y\":[122.52,122.52,103.65,103.65,91.09,91.09,87.54,87.54,84.75,84.75,81.09,81.09,79.19,79.19,76.8,76.8,76.8,76.8,75.81,75.81,73.74,73.74,72.85,72.85,70.82,70.82,69.88,69.89,68.36,68.36,67.77,67.77,66.08,66.08,65.28,65.28,64.42,64.42,63.81,63.81,63.12,63.12,62.29,62.29,61.79,61.79,60.98,60.98,60.59,60.59,59.91,59.91,59.43,59.43,58.87,58.87,58.52,58.52,58.03,58.04,57.71,57.71,57.32,57.32,57.02,57.02,56.55,56.55,56.26,56.26,56.16,56.16,55.88,55.88,55.76,55.76,55.61,55.61,55.49,55.49,55.42,55.42,55.37,55.37,55.35,55.35,55.33,55.33,55.28,55.28,55.35,55.35,55.53,55.53,56.19,56.19,56.92,56.92,57.72,57.72,58.61,58.61,59.53,59.53,60.47,60.47,61.5,61.5,62.42,62.42,63.58,63.58,64.47,64.47,65.22,65.22,66.06,66.06,67.23,67.23,68.71,68.71,71.83,71.83,74.02,74.02,75.81,75.81,80.6,80.6],\"type\":\"scatter\"},{\"mode\":\"lines+markers\",\"name\":\"2024-12-27\",\"x\":[10000.0,10000.0,15000.0,15000.0,20000.0,20000.0,25000.0,25000.0,28000.0,28000.0,29000.0,29000.0,30000.0,30000.0,31000.0,31000.0,32000.0,32000.0,33000.0,33000.0,34000.0,34000.0,35000.0,35000.0,36000.0,36000.0,37000.0,37000.0,38000.0,38000.0,39000.0,39000.0,40000.0,40000.0,41000.0,41000.0,42000.0,42000.0,43000.0,43000.0,44000.0,44000.0,45000.0,45000.0,46000.0,46000.0,47000.0,47000.0,48000.0,48000.0,49000.0,49000.0,50000.0,50000.0,51000.0,51000.0,52000.0,52000.0,53000.0,53000.0,54000.0,54000.0,55000.0,55000.0,56000.0,56000.0,57000.0,57000.0,58000.0,58000.0,59000.0,59000.0,60000.0,60000.0,61000.0,61000.0,62000.0,62000.0,63000.0,63000.0,65000.0,65000.0,70000.0,70000.0,75000.0,75000.0,80000.0,80000.0,85000.0,85000.0,90000.0,90000.0,95000.0,95000.0,100000.0,100000.0,105000.0,105000.0,110000.0,110000.0,115000.0,115000.0,120000.0,120000.0,125000.0,125000.0,130000.0,130000.0,135000.0,135000.0,140000.0,140000.0,150000.0,150000.0,160000.0,160000.0,180000.0,180000.0,200000.0,200000.0,240000.0,240000.0,300000.0,300000.0],\"y\":[100.78,100.78,85.6,85.6,74.4,74.4,66.77,66.77,65.42,65.42,65.34,65.34,64.61,64.61,64.25,64.25,63.59,63.59,63.3,63.3,63.18,63.18,62.57,62.57,62.48,62.48,62.21,62.21,61.96,61.96,61.79,61.79,61.71,61.71,61.52,61.52,61.51,61.51,61.49,61.49,61.49,61.49,61.49,61.49,61.49,61.49,61.49,61.49,61.49,61.49,61.49,61.49,61.49,61.49,61.49,61.49,61.49,61.49,61.49,61.49,61.49,61.49,61.49,61.49,61.49,61.5,61.5,61.5,61.5,61.5,61.5,61.5,61.5,61.5,61.48,61.48,61.55,61.55,61.71,61.71,61.74,61.74,62.27,62.27,62.91,62.91,63.45,63.45,63.99,63.99,64.48,64.48,65.05,65.05,65.61,65.61,66.16,66.16,66.71,66.71,67.28,67.28,67.84,67.84,68.39,68.39,68.92,68.92,69.41,69.41,69.9,69.9,70.73,70.73,71.55,71.55,73.08,73.08,74.88,74.88,77.62,77.62,81.82,81.82],\"type\":\"scatter\"},{\"mode\":\"lines+markers\",\"name\":\"2025-03-28\",\"x\":[20000.0,20000.0,30000.0,30000.0,40000.0,40000.0,50000.0,50000.0,55000.0,55000.0,60000.0,60000.0,65000.0,65000.0,70000.0,70000.0,75000.0,75000.0,80000.0,80000.0,85000.0,85000.0,90000.0,90000.0,100000.0,100000.0,110000.0,110000.0,120000.0,120000.0,130000.0,130000.0,140000.0,140000.0,150000.0,150000.0,160000.0,160000.0,180000.0,180000.0,200000.0,200000.0,220000.0,220000.0,250000.0,250000.0,300000.0,300000.0],\"y\":[68.25,68.25,64.63,64.63,63.84,63.84,63.84,63.84,63.84,63.84,63.84,63.84,63.79,63.79,64.24,64.24,64.78,64.78,65.15,65.15,65.67,65.67,65.85,65.85,66.99,66.99,67.81,67.81,68.61,68.61,69.39,69.39,70.13,70.13,70.91,70.91,71.5,71.5,72.67,72.67,73.57,73.57,74.4,74.4,75.69,75.69,77.99,77.99],\"type\":\"scatter\"}],                        {\"template\":{\"data\":{\"barpolar\":[{\"marker\":{\"line\":{\"color\":\"rgb(17,17,17)\",\"width\":0.5},\"pattern\":{\"fillmode\":\"overlay\",\"size\":10,\"solidity\":0.2}},\"type\":\"barpolar\"}],\"bar\":[{\"error_x\":{\"color\":\"#f2f5fa\"},\"error_y\":{\"color\":\"#f2f5fa\"},\"marker\":{\"line\":{\"color\":\"rgb(17,17,17)\",\"width\":0.5},\"pattern\":{\"fillmode\":\"overlay\",\"size\":10,\"solidity\":0.2}},\"type\":\"bar\"}],\"carpet\":[{\"aaxis\":{\"endlinecolor\":\"#A2B1C6\",\"gridcolor\":\"#506784\",\"linecolor\":\"#506784\",\"minorgridcolor\":\"#506784\",\"startlinecolor\":\"#A2B1C6\"},\"baxis\":{\"endlinecolor\":\"#A2B1C6\",\"gridcolor\":\"#506784\",\"linecolor\":\"#506784\",\"minorgridcolor\":\"#506784\",\"startlinecolor\":\"#A2B1C6\"},\"type\":\"carpet\"}],\"choropleth\":[{\"colorbar\":{\"outlinewidth\":0,\"ticks\":\"\"},\"type\":\"choropleth\"}],\"contourcarpet\":[{\"colorbar\":{\"outlinewidth\":0,\"ticks\":\"\"},\"type\":\"contourcarpet\"}],\"contour\":[{\"colorbar\":{\"outlinewidth\":0,\"ticks\":\"\"},\"colorscale\":[[0.0,\"#0d0887\"],[0.1111111111111111,\"#46039f\"],[0.2222222222222222,\"#7201a8\"],[0.3333333333333333,\"#9c179e\"],[0.4444444444444444,\"#bd3786\"],[0.5555555555555556,\"#d8576b\"],[0.6666666666666666,\"#ed7953\"],[0.7777777777777778,\"#fb9f3a\"],[0.8888888888888888,\"#fdca26\"],[1.0,\"#f0f921\"]],\"type\":\"contour\"}],\"heatmapgl\":[{\"colorbar\":{\"outlinewidth\":0,\"ticks\":\"\"},\"colorscale\":[[0.0,\"#0d0887\"],[0.1111111111111111,\"#46039f\"],[0.2222222222222222,\"#7201a8\"],[0.3333333333333333,\"#9c179e\"],[0.4444444444444444,\"#bd3786\"],[0.5555555555555556,\"#d8576b\"],[0.6666666666666666,\"#ed7953\"],[0.7777777777777778,\"#fb9f3a\"],[0.8888888888888888,\"#fdca26\"],[1.0,\"#f0f921\"]],\"type\":\"heatmapgl\"}],\"heatmap\":[{\"colorbar\":{\"outlinewidth\":0,\"ticks\":\"\"},\"colorscale\":[[0.0,\"#0d0887\"],[0.1111111111111111,\"#46039f\"],[0.2222222222222222,\"#7201a8\"],[0.3333333333333333,\"#9c179e\"],[0.4444444444444444,\"#bd3786\"],[0.5555555555555556,\"#d8576b\"],[0.6666666666666666,\"#ed7953\"],[0.7777777777777778,\"#fb9f3a\"],[0.8888888888888888,\"#fdca26\"],[1.0,\"#f0f921\"]],\"type\":\"heatmap\"}],\"histogram2dcontour\":[{\"colorbar\":{\"outlinewidth\":0,\"ticks\":\"\"},\"colorscale\":[[0.0,\"#0d0887\"],[0.1111111111111111,\"#46039f\"],[0.2222222222222222,\"#7201a8\"],[0.3333333333333333,\"#9c179e\"],[0.4444444444444444,\"#bd3786\"],[0.5555555555555556,\"#d8576b\"],[0.6666666666666666,\"#ed7953\"],[0.7777777777777778,\"#fb9f3a\"],[0.8888888888888888,\"#fdca26\"],[1.0,\"#f0f921\"]],\"type\":\"histogram2dcontour\"}],\"histogram2d\":[{\"colorbar\":{\"outlinewidth\":0,\"ticks\":\"\"},\"colorscale\":[[0.0,\"#0d0887\"],[0.1111111111111111,\"#46039f\"],[0.2222222222222222,\"#7201a8\"],[0.3333333333333333,\"#9c179e\"],[0.4444444444444444,\"#bd3786\"],[0.5555555555555556,\"#d8576b\"],[0.6666666666666666,\"#ed7953\"],[0.7777777777777778,\"#fb9f3a\"],[0.8888888888888888,\"#fdca26\"],[1.0,\"#f0f921\"]],\"type\":\"histogram2d\"}],\"histogram\":[{\"marker\":{\"pattern\":{\"fillmode\":\"overlay\",\"size\":10,\"solidity\":0.2}},\"type\":\"histogram\"}],\"mesh3d\":[{\"colorbar\":{\"outlinewidth\":0,\"ticks\":\"\"},\"type\":\"mesh3d\"}],\"parcoords\":[{\"line\":{\"colorbar\":{\"outlinewidth\":0,\"ticks\":\"\"}},\"type\":\"parcoords\"}],\"pie\":[{\"automargin\":true,\"type\":\"pie\"}],\"scatter3d\":[{\"line\":{\"colorbar\":{\"outlinewidth\":0,\"ticks\":\"\"}},\"marker\":{\"colorbar\":{\"outlinewidth\":0,\"ticks\":\"\"}},\"type\":\"scatter3d\"}],\"scattercarpet\":[{\"marker\":{\"colorbar\":{\"outlinewidth\":0,\"ticks\":\"\"}},\"type\":\"scattercarpet\"}],\"scattergeo\":[{\"marker\":{\"colorbar\":{\"outlinewidth\":0,\"ticks\":\"\"}},\"type\":\"scattergeo\"}],\"scattergl\":[{\"marker\":{\"line\":{\"color\":\"#283442\"}},\"type\":\"scattergl\"}],\"scattermapbox\":[{\"marker\":{\"colorbar\":{\"outlinewidth\":0,\"ticks\":\"\"}},\"type\":\"scattermapbox\"}],\"scatterpolargl\":[{\"marker\":{\"colorbar\":{\"outlinewidth\":0,\"ticks\":\"\"}},\"type\":\"scatterpolargl\"}],\"scatterpolar\":[{\"marker\":{\"colorbar\":{\"outlinewidth\":0,\"ticks\":\"\"}},\"type\":\"scatterpolar\"}],\"scatter\":[{\"marker\":{\"line\":{\"color\":\"#283442\"}},\"type\":\"scatter\"}],\"scatterternary\":[{\"marker\":{\"colorbar\":{\"outlinewidth\":0,\"ticks\":\"\"}},\"type\":\"scatterternary\"}],\"surface\":[{\"colorbar\":{\"outlinewidth\":0,\"ticks\":\"\"},\"colorscale\":[[0.0,\"#0d0887\"],[0.1111111111111111,\"#46039f\"],[0.2222222222222222,\"#7201a8\"],[0.3333333333333333,\"#9c179e\"],[0.4444444444444444,\"#bd3786\"],[0.5555555555555556,\"#d8576b\"],[0.6666666666666666,\"#ed7953\"],[0.7777777777777778,\"#fb9f3a\"],[0.8888888888888888,\"#fdca26\"],[1.0,\"#f0f921\"]],\"type\":\"surface\"}],\"table\":[{\"cells\":{\"fill\":{\"color\":\"#506784\"},\"line\":{\"color\":\"rgb(17,17,17)\"}},\"header\":{\"fill\":{\"color\":\"#2a3f5f\"},\"line\":{\"color\":\"rgb(17,17,17)\"}},\"type\":\"table\"}]},\"layout\":{\"annotationdefaults\":{\"arrowcolor\":\"#f2f5fa\",\"arrowhead\":0,\"arrowwidth\":1},\"autotypenumbers\":\"strict\",\"coloraxis\":{\"colorbar\":{\"outlinewidth\":0,\"ticks\":\"\"}},\"colorscale\":{\"diverging\":[[0,\"#8e0152\"],[0.1,\"#c51b7d\"],[0.2,\"#de77ae\"],[0.3,\"#f1b6da\"],[0.4,\"#fde0ef\"],[0.5,\"#f7f7f7\"],[0.6,\"#e6f5d0\"],[0.7,\"#b8e186\"],[0.8,\"#7fbc41\"],[0.9,\"#4d9221\"],[1,\"#276419\"]],\"sequential\":[[0.0,\"#0d0887\"],[0.1111111111111111,\"#46039f\"],[0.2222222222222222,\"#7201a8\"],[0.3333333333333333,\"#9c179e\"],[0.4444444444444444,\"#bd3786\"],[0.5555555555555556,\"#d8576b\"],[0.6666666666666666,\"#ed7953\"],[0.7777777777777778,\"#fb9f3a\"],[0.8888888888888888,\"#fdca26\"],[1.0,\"#f0f921\"]],\"sequentialminus\":[[0.0,\"#0d0887\"],[0.1111111111111111,\"#46039f\"],[0.2222222222222222,\"#7201a8\"],[0.3333333333333333,\"#9c179e\"],[0.4444444444444444,\"#bd3786\"],[0.5555555555555556,\"#d8576b\"],[0.6666666666666666,\"#ed7953\"],[0.7777777777777778,\"#fb9f3a\"],[0.8888888888888888,\"#fdca26\"],[1.0,\"#f0f921\"]]},\"colorway\":[\"#636efa\",\"#EF553B\",\"#00cc96\",\"#ab63fa\",\"#FFA15A\",\"#19d3f3\",\"#FF6692\",\"#B6E880\",\"#FF97FF\",\"#FECB52\"],\"font\":{\"color\":\"#f2f5fa\"},\"geo\":{\"bgcolor\":\"rgb(17,17,17)\",\"lakecolor\":\"rgb(17,17,17)\",\"landcolor\":\"rgb(17,17,17)\",\"showlakes\":true,\"showland\":true,\"subunitcolor\":\"#506784\"},\"hoverlabel\":{\"align\":\"left\"},\"hovermode\":\"closest\",\"mapbox\":{\"style\":\"dark\"},\"paper_bgcolor\":\"rgb(17,17,17)\",\"plot_bgcolor\":\"rgb(17,17,17)\",\"polar\":{\"angularaxis\":{\"gridcolor\":\"#506784\",\"linecolor\":\"#506784\",\"ticks\":\"\"},\"bgcolor\":\"rgb(17,17,17)\",\"radialaxis\":{\"gridcolor\":\"#506784\",\"linecolor\":\"#506784\",\"ticks\":\"\"}},\"scene\":{\"xaxis\":{\"backgroundcolor\":\"rgb(17,17,17)\",\"gridcolor\":\"#506784\",\"gridwidth\":2,\"linecolor\":\"#506784\",\"showbackground\":true,\"ticks\":\"\",\"zerolinecolor\":\"#C8D4E3\"},\"yaxis\":{\"backgroundcolor\":\"rgb(17,17,17)\",\"gridcolor\":\"#506784\",\"gridwidth\":2,\"linecolor\":\"#506784\",\"showbackground\":true,\"ticks\":\"\",\"zerolinecolor\":\"#C8D4E3\"},\"zaxis\":{\"backgroundcolor\":\"rgb(17,17,17)\",\"gridcolor\":\"#506784\",\"gridwidth\":2,\"linecolor\":\"#506784\",\"showbackground\":true,\"ticks\":\"\",\"zerolinecolor\":\"#C8D4E3\"}},\"shapedefaults\":{\"line\":{\"color\":\"#f2f5fa\"}},\"sliderdefaults\":{\"bgcolor\":\"#C8D4E3\",\"bordercolor\":\"rgb(17,17,17)\",\"borderwidth\":1,\"tickwidth\":0},\"ternary\":{\"aaxis\":{\"gridcolor\":\"#506784\",\"linecolor\":\"#506784\",\"ticks\":\"\"},\"baxis\":{\"gridcolor\":\"#506784\",\"linecolor\":\"#506784\",\"ticks\":\"\"},\"bgcolor\":\"rgb(17,17,17)\",\"caxis\":{\"gridcolor\":\"#506784\",\"linecolor\":\"#506784\",\"ticks\":\"\"}},\"title\":{\"x\":0.05},\"updatemenudefaults\":{\"bgcolor\":\"#506784\",\"borderwidth\":0},\"xaxis\":{\"automargin\":true,\"gridcolor\":\"#283442\",\"linecolor\":\"#506784\",\"ticks\":\"\",\"title\":{\"standoff\":15},\"zerolinecolor\":\"#283442\",\"zerolinewidth\":2},\"yaxis\":{\"automargin\":true,\"gridcolor\":\"#283442\",\"linecolor\":\"#506784\",\"ticks\":\"\",\"title\":{\"standoff\":15},\"zerolinecolor\":\"#283442\",\"zerolinewidth\":2}}},\"title\":{\"text\":\"Volatility Smile for Different Maturities\"},\"xaxis\":{\"title\":{\"text\":\"Strike Price\"}},\"yaxis\":{\"title\":{\"text\":\"Implied Volatility (%)\"}},\"height\":600},                        {\"responsive\": true}                    ).then(function(){\n",
       "                            \n",
       "var gd = document.getElementById('f687c9ea-07ea-457b-ba9a-af76a2481bc7');\n",
       "var x = new MutationObserver(function (mutations, observer) {{\n",
       "        var display = window.getComputedStyle(gd).display;\n",
       "        if (!display || display === 'none') {{\n",
       "            console.log([gd, 'removed!']);\n",
       "            Plotly.purge(gd);\n",
       "            observer.disconnect();\n",
       "        }}\n",
       "}});\n",
       "\n",
       "// Listen for the removal of the full notebook cells\n",
       "var notebookContainer = gd.closest('#notebook-container');\n",
       "if (notebookContainer) {{\n",
       "    x.observe(notebookContainer, {childList: true});\n",
       "}}\n",
       "\n",
       "// Listen for the clearing of the current output cell\n",
       "var outputEl = gd.closest('.output');\n",
       "if (outputEl) {{\n",
       "    x.observe(outputEl, {childList: true});\n",
       "}}\n",
       "\n",
       "                        })                };                });            </script>        </div>"
      ]
     },
     "metadata": {},
     "output_type": "display_data"
    }
   ],
   "source": [
    "import pandas as pd\n",
    "import plotly.graph_objects as go\n",
    "from IPython.display import display\n",
    "\n",
    "# Filter the relevant columns\n",
    "filtered_data = data[['strikePx', 'mark_iv', 'maturity']]\n",
    "\n",
    "# List of unique maturity dates\n",
    "maturity_dates = filtered_data['maturity'].unique()\n",
    "\n",
    "# Function to update the plot\n",
    "def update_plot():\n",
    "    fig = go.Figure()\n",
    "    \n",
    "    # Add traces for each maturity date\n",
    "    for maturity in maturity_dates:\n",
    "        df = filtered_data[filtered_data['maturity'] == maturity]\n",
    "        fig.add_trace(go.Scatter(x=df['strikePx'], y=df['mark_iv'], mode='lines+markers', name=maturity))\n",
    "    \n",
    "    # Update layout for better visualization\n",
    "    fig.update_layout(\n",
    "        title='Volatility Smile for Different Maturities',\n",
    "        xaxis_title='Strike Price',\n",
    "        yaxis_title='Implied Volatility (%)',\n",
    "        template='plotly_dark',\n",
    "        height=600  # Increase the height of the plot\n",
    "    )\n",
    "    fig.show()\n",
    "\n",
    "# Display the initial plot\n",
    "update_plot()\n"
   ]
  },
  {
   "cell_type": "code",
   "execution_count": null,
   "id": "b7950207-740d-4c58-b5ae-b43b4eeb93c9",
   "metadata": {},
   "outputs": [],
   "source": []
  }
 ],
 "metadata": {
  "kernelspec": {
   "display_name": "Python 3 (ipykernel)",
   "language": "python",
   "name": "python3"
  },
  "language_info": {
   "codemirror_mode": {
    "name": "ipython",
    "version": 3
   },
   "file_extension": ".py",
   "mimetype": "text/x-python",
   "name": "python",
   "nbconvert_exporter": "python",
   "pygments_lexer": "ipython3",
   "version": "3.11.7"
  }
 },
 "nbformat": 4,
 "nbformat_minor": 5
}
