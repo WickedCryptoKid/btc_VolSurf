{
 "cells": [
  {
   "cell_type": "code",
   "execution_count": 1,
   "id": "20d27b94-ed88-4a37-8ef9-870684ae9dfc",
   "metadata": {},
   "outputs": [
    {
     "name": "stdout",
     "output_type": "stream",
     "text": [
      "Collecting laevitas-sdk\n",
      "  Downloading laevitas-sdk-1.2.0.tar.gz (21 kB)\n",
      "  Preparing metadata (setup.py) ... \u001b[?25ldone\n",
      "\u001b[?25hRequirement already satisfied: requests in /home/scarlett/anaconda3/lib/python3.11/site-packages (from laevitas-sdk) (2.31.0)\n",
      "Requirement already satisfied: charset-normalizer<4,>=2 in /home/scarlett/anaconda3/lib/python3.11/site-packages (from requests->laevitas-sdk) (2.0.4)\n",
      "Requirement already satisfied: idna<4,>=2.5 in /home/scarlett/anaconda3/lib/python3.11/site-packages (from requests->laevitas-sdk) (3.4)\n",
      "Requirement already satisfied: urllib3<3,>=1.21.1 in /home/scarlett/anaconda3/lib/python3.11/site-packages (from requests->laevitas-sdk) (2.0.7)\n",
      "Requirement already satisfied: certifi>=2017.4.17 in /home/scarlett/anaconda3/lib/python3.11/site-packages (from requests->laevitas-sdk) (2024.2.2)\n",
      "Building wheels for collected packages: laevitas-sdk\n",
      "  Building wheel for laevitas-sdk (setup.py) ... \u001b[?25ldone\n",
      "\u001b[?25h  Created wheel for laevitas-sdk: filename=laevitas_sdk-1.2.0-py3-none-any.whl size=19045 sha256=c66ab7c97905d1b220928dd8393c82f59b9e43c51744e902d05f05e31e715e92\n",
      "  Stored in directory: /home/scarlett/.cache/pip/wheels/fe/80/40/1e96355fe50d16e6453753e054710e910eda61c61f72714a2f\n",
      "Successfully built laevitas-sdk\n",
      "Installing collected packages: laevitas-sdk\n",
      "Successfully installed laevitas-sdk-1.2.0\n",
      "Note: you may need to restart the kernel to use updated packages.\n"
     ]
    }
   ],
   "source": [
    "pip install laevitas-sdk"
   ]
  },
  {
   "cell_type": "code",
   "execution_count": null,
   "id": "ca785e4a-84c9-44f0-9e01-0dacbdbc58f9",
   "metadata": {},
   "outputs": [],
   "source": []
  }
 ],
 "metadata": {
  "kernelspec": {
   "display_name": "Python 3 (ipykernel)",
   "language": "python",
   "name": "python3"
  },
  "language_info": {
   "codemirror_mode": {
    "name": "ipython",
    "version": 3
   },
   "file_extension": ".py",
   "mimetype": "text/x-python",
   "name": "python",
   "nbconvert_exporter": "python",
   "pygments_lexer": "ipython3",
   "version": "3.11.7"
  }
 },
 "nbformat": 4,
 "nbformat_minor": 5
}
